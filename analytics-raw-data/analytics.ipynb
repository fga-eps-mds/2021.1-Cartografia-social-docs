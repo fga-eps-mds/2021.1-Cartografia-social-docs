{
 "cells": [
  {
   "cell_type": "markdown",
   "metadata": {},
   "source": [
    "# Analytics"
   ]
  },
  {
   "cell_type": "markdown",
   "metadata": {},
   "source": [
    "#### Date: 2020/02\n",
    "\n",
    "#### SUMMARY:\n",
    "\n",
    "- This notebook represents the project quality analysis of the date exposed right above. "
   ]
  },
  {
   "cell_type": "markdown",
   "metadata": {},
   "source": [
    "### TEAM:\n",
    "\n",
    "##### Semester: 2021/1\n",
    "##### Professor: Hilmer Neri\n",
    "\n",
    "##### Members:\n"
   ]
  },
  {
   "cell_type": "markdown",
   "metadata": {},
   "source": [
    "### LIBRARIES"
   ]
  },
  {
   "cell_type": "code",
   "execution_count": 151,
   "metadata": {},
   "outputs": [],
   "source": [
    "# Deal with data\n",
    "import pandas as pd\n",
    "import numpy as np\n",
    "import json\n",
    "from glob import glob\n",
    "import os\n",
    "\n",
    "# Deal with API request\n",
    "import urllib3\n",
    "from urllib3 import request\n",
    "\n",
    "# Deal with visualization\n",
    "import seaborn as sns\n",
    "import matplotlib.pyplot as plt\n",
    "\n",
    "from random import randint\n",
    "from IPython.core.display import display, HTML"
   ]
  },
  {
   "cell_type": "markdown",
   "metadata": {},
   "source": [
    "### GRAPH SETTINGS"
   ]
  },
  {
   "cell_type": "code",
   "execution_count": 152,
   "metadata": {},
   "outputs": [],
   "source": [
    "%config InlineBackend.figure_format ='retina'\n",
    "sns.set(font_scale=1.5)\n",
    "sns.set_style('darkgrid',\n",
    "              {'xtick.bottom' : True,\n",
    "               'ytick.left': True,\n",
    "               'grid.linestyle':'--',\n",
    "               'font.monospace': ['Computer Modern Typewriter'],\n",
    "               'axes.edgecolor' : 'white'})"
   ]
  },
  {
   "cell_type": "markdown",
   "metadata": {},
   "source": [
    "### DATAFRAME SETTINGS"
   ]
  },
  {
   "cell_type": "code",
   "execution_count": 153,
   "metadata": {},
   "outputs": [],
   "source": [
    "pd.set_option(\"display.max_rows\", None, \"display.max_columns\", None)"
   ]
  },
  {
   "cell_type": "markdown",
   "metadata": {},
   "source": [
    "### SonarCloud"
   ]
  },
  {
   "cell_type": "code",
   "execution_count": 154,
   "metadata": {},
   "outputs": [],
   "source": [
    "repos = [\n",
    "    '2021.1-Cartografia-social-api-comunidades',\n",
    "    '2021.1-Cartografia-social-api-gateway',\n",
    "    #'2021.1-Cartografia-social-api-mapas',\n",
    "    #'2021.1-Cartografia-social-api-midia',\n",
    "    #'2021.1-Cartografia-social-api-users',\n",
    "    #'2021.1-Cartografia-social-front'\n",
    "]\n",
    "\n",
    "language = [['2021.1-Cartografia-social-api-comunidades', 'ts']] \n",
    "            ['2021.1-Cartografia-social-api-gateway', 'ts'], \n",
    "            #['2021.1-Cartografia-social-api-mapas', 'ts'], \n",
    "            #['2021.1-Cartografia-social-api-midia', 'ts']] \n",
    "            #['2021.1-Cartografia-social-api-users', 'ts'], \n",
    "            #['2021.1-Cartografia-social-front', 'js']]\n",
    "\n",
    "repos_language = {}\n",
    "\n",
    "for item in language:\n",
    "    repos_language[f\"{item[0]}\"] = item[1]"
   ]
  },
  {
   "cell_type": "code",
   "execution_count": 155,
   "metadata": {
    "scrolled": true
   },
   "outputs": [
    {
     "data": {
      "text/plain": [
       "{'2021.1-Cartografia-social-api-comunidades': 'ts'}"
      ]
     },
     "execution_count": 155,
     "metadata": {},
     "output_type": "execute_result"
    }
   ],
   "source": [
    "repos_language"
   ]
  },
  {
   "cell_type": "markdown",
   "metadata": {},
   "source": [
    "##### Path to the folder with all your jsons"
   ]
  },
  {
   "cell_type": "code",
   "execution_count": 156,
   "metadata": {},
   "outputs": [],
   "source": [
    "jsons = glob('2021.1-Cartografia-social-api-comunidades/*.json') # add the path here"
   ]
  },
  {
   "cell_type": "code",
   "execution_count": 157,
   "metadata": {},
   "outputs": [],
   "source": [
    "issues = glob('issues.json')\n",
    "sprints = glob('sprints.json')"
   ]
  },
  {
   "cell_type": "code",
   "execution_count": 158,
   "metadata": {},
   "outputs": [],
   "source": [
    "def read_json(json_path):\n",
    "    \n",
    "    with open(json_path) as json_file:\n",
    "        json_obj = json.load(json_file)\n",
    "        \n",
    "    return json_obj\n",
    "\n",
    "\n",
    "def create_base_component_df(json_list):\n",
    "    \n",
    "    df = pd.DataFrame()\n",
    "\n",
    "    for i in json_list:\n",
    "\n",
    "        base_component = read_json(i)\n",
    "\n",
    "        base_component_data = base_component['baseComponent']['measures']\n",
    "\n",
    "        base_component_df = pd.DataFrame(base_component_data)\n",
    "\n",
    "        base_component_df['filename'] = os.path.basename(i)\n",
    "\n",
    "        df = df.append(base_component_df, ignore_index=True)\n",
    "        \n",
    "        aux_df = df['filename'].str.split(r\"fga-eps-mds-2021_1-(.*?)_(.*?)_(.*?).json\", expand=True)\n",
    "    \n",
    "    df['repository'] = aux_df[1]\n",
    "    \n",
    "    df['version'] = aux_df[3]\n",
    "    \n",
    "    df = df.sort_values(by=['repository', 'version'])\n",
    "        \n",
    "    return df\n",
    "\n",
    "def create_base_issue_df(json_list):\n",
    "    df = pd.DataFrame()\n",
    "    \n",
    "    for i in issue_list:\n",
    "        base_issue = read_json(i)\n",
    "        base_issue_data = base_issue['baseIssue']['TAGS']\n",
    "        base_issue_df = pd.DataFrame(base_issue_data)\n",
    "        base_issue_df['filename'] = os.path.basename(i)\n",
    "        df = df.append(base_issue_df, ignore_index=True)\n",
    "    return df, repos"
   ]
  },
  {
   "cell_type": "code",
   "execution_count": 159,
   "metadata": {},
   "outputs": [],
   "source": [
    "all_issues = pd.DataFrame()\n",
    "all_issues = read_json(issues[0])"
   ]
  },
  {
   "cell_type": "code",
   "execution_count": 160,
   "metadata": {},
   "outputs": [],
   "source": [
    "all_sprints = read_json(sprints[0])"
   ]
  },
  {
   "cell_type": "markdown",
   "metadata": {},
   "source": [
    "#### Create base component dataframe"
   ]
  },
  {
   "cell_type": "code",
   "execution_count": 161,
   "metadata": {
    "tags": []
   },
   "outputs": [
    {
     "data": {
      "text/html": [
       "<div>\n",
       "<style scoped>\n",
       "    .dataframe tbody tr th:only-of-type {\n",
       "        vertical-align: middle;\n",
       "    }\n",
       "\n",
       "    .dataframe tbody tr th {\n",
       "        vertical-align: top;\n",
       "    }\n",
       "\n",
       "    .dataframe thead th {\n",
       "        text-align: right;\n",
       "    }\n",
       "</style>\n",
       "<table border=\"1\" class=\"dataframe\">\n",
       "  <thead>\n",
       "    <tr style=\"text-align: right;\">\n",
       "      <th></th>\n",
       "      <th>metric</th>\n",
       "      <th>value</th>\n",
       "      <th>bestValue</th>\n",
       "      <th>filename</th>\n",
       "      <th>repository</th>\n",
       "      <th>version</th>\n",
       "    </tr>\n",
       "  </thead>\n",
       "  <tbody>\n",
       "    <tr>\n",
       "      <th>54</th>\n",
       "      <td>duplicated_lines_density</td>\n",
       "      <td>0.0</td>\n",
       "      <td>True</td>\n",
       "      <td>fga-eps-mds-2021_1-Cartografia-social-api-comu...</td>\n",
       "      <td>Cartografia-social-api-comunidades</td>\n",
       "      <td>v0.0.1</td>\n",
       "    </tr>\n",
       "    <tr>\n",
       "      <th>55</th>\n",
       "      <td>functions</td>\n",
       "      <td>35</td>\n",
       "      <td>NaN</td>\n",
       "      <td>fga-eps-mds-2021_1-Cartografia-social-api-comu...</td>\n",
       "      <td>Cartografia-social-api-comunidades</td>\n",
       "      <td>v0.0.1</td>\n",
       "    </tr>\n",
       "    <tr>\n",
       "      <th>56</th>\n",
       "      <td>security_rating</td>\n",
       "      <td>1.0</td>\n",
       "      <td>True</td>\n",
       "      <td>fga-eps-mds-2021_1-Cartografia-social-api-comu...</td>\n",
       "      <td>Cartografia-social-api-comunidades</td>\n",
       "      <td>v0.0.1</td>\n",
       "    </tr>\n",
       "    <tr>\n",
       "      <th>57</th>\n",
       "      <td>files</td>\n",
       "      <td>30</td>\n",
       "      <td>NaN</td>\n",
       "      <td>fga-eps-mds-2021_1-Cartografia-social-api-comu...</td>\n",
       "      <td>Cartografia-social-api-comunidades</td>\n",
       "      <td>v0.0.1</td>\n",
       "    </tr>\n",
       "    <tr>\n",
       "      <th>58</th>\n",
       "      <td>complexity</td>\n",
       "      <td>35</td>\n",
       "      <td>NaN</td>\n",
       "      <td>fga-eps-mds-2021_1-Cartografia-social-api-comu...</td>\n",
       "      <td>Cartografia-social-api-comunidades</td>\n",
       "      <td>v0.0.1</td>\n",
       "    </tr>\n",
       "    <tr>\n",
       "      <th>59</th>\n",
       "      <td>ncloc</td>\n",
       "      <td>336</td>\n",
       "      <td>NaN</td>\n",
       "      <td>fga-eps-mds-2021_1-Cartografia-social-api-comu...</td>\n",
       "      <td>Cartografia-social-api-comunidades</td>\n",
       "      <td>v0.0.1</td>\n",
       "    </tr>\n",
       "    <tr>\n",
       "      <th>60</th>\n",
       "      <td>reliability_rating</td>\n",
       "      <td>1.0</td>\n",
       "      <td>True</td>\n",
       "      <td>fga-eps-mds-2021_1-Cartografia-social-api-comu...</td>\n",
       "      <td>Cartografia-social-api-comunidades</td>\n",
       "      <td>v0.0.1</td>\n",
       "    </tr>\n",
       "    <tr>\n",
       "      <th>61</th>\n",
       "      <td>comment_lines_density</td>\n",
       "      <td>0.0</td>\n",
       "      <td>False</td>\n",
       "      <td>fga-eps-mds-2021_1-Cartografia-social-api-comu...</td>\n",
       "      <td>Cartografia-social-api-comunidades</td>\n",
       "      <td>v0.0.1</td>\n",
       "    </tr>\n",
       "    <tr>\n",
       "      <th>9</th>\n",
       "      <td>duplicated_lines_density</td>\n",
       "      <td>0.0</td>\n",
       "      <td>True</td>\n",
       "      <td>fga-eps-mds-2021_1-Cartografia-social-api-comu...</td>\n",
       "      <td>Cartografia-social-api-comunidades</td>\n",
       "      <td>v0.0.2</td>\n",
       "    </tr>\n",
       "    <tr>\n",
       "      <th>10</th>\n",
       "      <td>functions</td>\n",
       "      <td>16</td>\n",
       "      <td>NaN</td>\n",
       "      <td>fga-eps-mds-2021_1-Cartografia-social-api-comu...</td>\n",
       "      <td>Cartografia-social-api-comunidades</td>\n",
       "      <td>v0.0.2</td>\n",
       "    </tr>\n",
       "  </tbody>\n",
       "</table>\n",
       "</div>"
      ],
      "text/plain": [
       "                      metric value bestValue  \\\n",
       "54  duplicated_lines_density   0.0      True   \n",
       "55                 functions    35       NaN   \n",
       "56           security_rating   1.0      True   \n",
       "57                     files    30       NaN   \n",
       "58                complexity    35       NaN   \n",
       "59                     ncloc   336       NaN   \n",
       "60        reliability_rating   1.0      True   \n",
       "61     comment_lines_density   0.0     False   \n",
       "9   duplicated_lines_density   0.0      True   \n",
       "10                 functions    16       NaN   \n",
       "\n",
       "                                             filename  \\\n",
       "54  fga-eps-mds-2021_1-Cartografia-social-api-comu...   \n",
       "55  fga-eps-mds-2021_1-Cartografia-social-api-comu...   \n",
       "56  fga-eps-mds-2021_1-Cartografia-social-api-comu...   \n",
       "57  fga-eps-mds-2021_1-Cartografia-social-api-comu...   \n",
       "58  fga-eps-mds-2021_1-Cartografia-social-api-comu...   \n",
       "59  fga-eps-mds-2021_1-Cartografia-social-api-comu...   \n",
       "60  fga-eps-mds-2021_1-Cartografia-social-api-comu...   \n",
       "61  fga-eps-mds-2021_1-Cartografia-social-api-comu...   \n",
       "9   fga-eps-mds-2021_1-Cartografia-social-api-comu...   \n",
       "10  fga-eps-mds-2021_1-Cartografia-social-api-comu...   \n",
       "\n",
       "                            repository version  \n",
       "54  Cartografia-social-api-comunidades  v0.0.1  \n",
       "55  Cartografia-social-api-comunidades  v0.0.1  \n",
       "56  Cartografia-social-api-comunidades  v0.0.1  \n",
       "57  Cartografia-social-api-comunidades  v0.0.1  \n",
       "58  Cartografia-social-api-comunidades  v0.0.1  \n",
       "59  Cartografia-social-api-comunidades  v0.0.1  \n",
       "60  Cartografia-social-api-comunidades  v0.0.1  \n",
       "61  Cartografia-social-api-comunidades  v0.0.1  \n",
       "9   Cartografia-social-api-comunidades  v0.0.2  \n",
       "10  Cartografia-social-api-comunidades  v0.0.2  "
      ]
     },
     "execution_count": 161,
     "metadata": {},
     "output_type": "execute_result"
    }
   ],
   "source": [
    "base_component_df = create_base_component_df(jsons)\n",
    "base_component_df.head(10)"
   ]
  },
  {
   "cell_type": "markdown",
   "metadata": {},
   "source": [
    "#### Create dataframe per file"
   ]
  },
  {
   "cell_type": "code",
   "execution_count": 162,
   "metadata": {},
   "outputs": [
    {
     "data": {
      "text/plain": [
       "12"
      ]
     },
     "execution_count": 162,
     "metadata": {},
     "output_type": "execute_result"
    }
   ],
   "source": [
    "metric_list = ['files',\n",
    "               'functions',\n",
    "               'complexity',\n",
    "               'comment_lines_density',\n",
    "               'duplicated_lines_density',\n",
    "               'coverage',\n",
    "               'ncloc',\n",
    "               'security_rating',\n",
    "               'tests',\n",
    "               'test_success_density',\n",
    "               'test_execution_time',\n",
    "               'reliability_rating']\n",
    "\n",
    "len(metric_list)"
   ]
  },
  {
   "cell_type": "code",
   "execution_count": 163,
   "metadata": {},
   "outputs": [],
   "source": [
    "def metric_per_file(json):\n",
    "    \n",
    "    file_json = []\n",
    "    \n",
    "    for component in json['components']:\n",
    "        if component['qualifier'] == 'FIL':\n",
    "            file_json.append(component)\n",
    "            \n",
    "    return file_json\n",
    "\n",
    "def generate_file_dataframe_per_release(metric_list, json, language_extension):\n",
    "    \n",
    "    df_columns = metric_list\n",
    "    df = pd.DataFrame(columns = df_columns)\n",
    "    \n",
    "    for file in json:\n",
    "        try:\n",
    "            if file['language'] == language_extension:\n",
    "                for measure in file['measures']:\n",
    "                    df.at[file['path'], measure['metric']] = measure['value']\n",
    "        except:\n",
    "            pass\n",
    "        \n",
    "    df.reset_index(inplace = True)\n",
    "    df = df.rename({'index': 'path'}, axis=1).drop(['files'], axis=1)\n",
    "\n",
    "    return df\n",
    "\n",
    "def create_file_df(json_list):\n",
    "    \n",
    "    df = pd.DataFrame()\n",
    "\n",
    "    for i in json_list:\n",
    "\n",
    "        file_component = read_json(i)\n",
    "        \n",
    "        file_component_data = metric_per_file(file_component)\n",
    "\n",
    "        file_component_df = generate_file_dataframe_per_release(metric_list, file_component_data, language_extension = 'ts')\n",
    "\n",
    "        file_component_df['filename'] = os.path.basename(i)\n",
    "\n",
    "        df = df.append(file_component_df, ignore_index=True)\n",
    "        \n",
    "    # replace TeamName by yours.    \n",
    "    aux_df = df['filename'].str.split(r\"fga-eps-mds-2021_1-(.*?)_(.*?)_(.*?).json\", expand=True)\n",
    "    \n",
    "    df['repository'] = aux_df[1]\n",
    "    \n",
    "    df['version'] = aux_df[3]\n",
    "    \n",
    "    df = df.sort_values(by=['repository', 'version'])\n",
    "\n",
    "    df.to_csv('result2.csv')\n",
    "    \n",
    "    return df"
   ]
  },
  {
   "cell_type": "code",
   "execution_count": 164,
   "metadata": {
    "tags": []
   },
   "outputs": [],
   "source": [
    "file_component_df = create_file_df(jsons)"
   ]
  },
  {
   "cell_type": "code",
   "execution_count": 165,
   "metadata": {},
   "outputs": [],
   "source": [
    "#file_component_df['version'] = pd.to_datetime(file_component_df['version'], format=\"%d-%m-%Y\")"
   ]
  },
  {
   "cell_type": "code",
   "execution_count": 166,
   "metadata": {},
   "outputs": [],
   "source": [
    "file_component_df = file_component_df.sort_values(by='version')"
   ]
  },
  {
   "cell_type": "code",
   "execution_count": 167,
   "metadata": {},
   "outputs": [],
   "source": [
    "file_component_df.to_excel('data/data.xlsx', index = False)"
   ]
  },
  {
   "cell_type": "code",
   "execution_count": 168,
   "metadata": {},
   "outputs": [
    {
     "data": {
      "text/plain": [
       "array(['Cartografia-social-api-comunidades'], dtype=object)"
      ]
     },
     "execution_count": 168,
     "metadata": {},
     "output_type": "execute_result"
    }
   ],
   "source": [
    "file_component_df.repository.unique()"
   ]
  },
  {
   "cell_type": "markdown",
   "metadata": {},
   "source": [
    "#### Create dataframe per repository"
   ]
  },
  {
   "cell_type": "code",
   "execution_count": 169,
   "metadata": {},
   "outputs": [
    {
     "data": {
      "text/plain": [
       "dict_keys(['2021.1-Cartografia-social-api-comunidades'])"
      ]
     },
     "execution_count": 169,
     "metadata": {},
     "output_type": "execute_result"
    }
   ],
   "source": [
    "repository_dataframes = {} \n",
    "\n",
    "for repository in repos:\n",
    "    df = file_component_df[file_component_df['repository'] == f\"{repository}\"]\n",
    "    df.name = f\"{repository}\"\n",
    "    repository_dataframes[f\"{repository}\"] = df\n",
    "    \n",
    "repository_dataframes.keys()"
   ]
  },
  {
   "cell_type": "code",
   "execution_count": 170,
   "metadata": {},
   "outputs": [
    {
     "name": "stdout",
     "output_type": "stream",
     "text": [
      "                                                  path functions complexity  \\\n",
      "58                                test/app.e2e-spec.ts         3          3   \n",
      "78     src/questionario/dto/update-questionario.dto.ts         0          0   \n",
      "77   src/questionario/entities/survey_response.sche...         0          0   \n",
      "76       src/questionario/dto/sendSurveyAsnwers.dto.ts         0          0   \n",
      "75            src/questionario/questionario.service.ts         3          3   \n",
      "74      test/questionario/questionario.service.spec.ts         8          8   \n",
      "73    src/questionario/entities/questionario.schema.ts         0          0   \n",
      "72             src/questionario/questionario.module.ts         0          0   \n",
      "71         src/questionario/questionario.controller.ts         3          3   \n",
      "69                                         src/main.ts         2          2   \n",
      "70   test/questionario/questionario.controller.spec.ts         5          5   \n",
      "67                         src/config/configuration.ts         2          2   \n",
      "66              src/comunidades/comunidades.service.ts         1          1   \n",
      "65        test/comunidades/comunidades.service.spec.ts         3          3   \n",
      "64               src/comunidades/comunidades.module.ts         0          0   \n",
      "63           src/comunidades/comunidades.controller.ts         2          2   \n",
      "62     test/comunidades/comunidades.controller.spec.ts         3          3   \n",
      "61       src/comunidades/entities/comunidade.entity.ts         0          0   \n",
      "60          src/questionario/entities/asnwer.entity.ts         0          0   \n",
      "59                                   src/app.module.ts         0          0   \n",
      "68     src/questionario/dto/create-questionario.dto.ts         0          0   \n",
      "42    src/commons/exceptions/MicrosserviceException.ts         1          1   \n",
      "44          src/comunidades/dto/updateCommunity.dto.ts         0          0   \n",
      "43            src/questionario/questionario.service.ts         3          3   \n",
      "41          src/comunidades/dto/createCommunity.dto.ts         0          0   \n",
      "37       src/comunidades/entities/comunidade.schema.ts         2          2   \n",
      "39               src/comunidades/comunidades.module.ts         0          0   \n",
      "38           src/comunidades/comunidades.controller.ts         5          5   \n",
      "40              src/comunidades/comunidades.service.ts         5          9   \n",
      "88          src/comunidades/dto/updateCommunity.dto.ts         0          0   \n",
      "87            src/questionario/questionario.service.ts         4          4   \n",
      "86    src/questionario/entities/questionario.schema.ts         0          0   \n",
      "85         src/questionario/questionario.controller.ts         4          4   \n",
      "84    src/commons/exceptions/MicrosserviceException.ts         1          1   \n",
      "82              src/comunidades/comunidades.service.ts         5          9   \n",
      "81               src/comunidades/comunidades.module.ts         0          0   \n",
      "80           src/comunidades/comunidades.controller.ts         5          5   \n",
      "79       src/comunidades/entities/comunidade.schema.ts         2          2   \n",
      "83          src/comunidades/dto/createCommunity.dto.ts         0          0   \n",
      "32         src/questionario/questionario.controller.ts         4          4   \n",
      "35          src/comunidades/dto/updateCommunity.dto.ts         0          0   \n",
      "34            src/questionario/questionario.service.ts         4          4   \n",
      "33    src/questionario/entities/questionario.schema.ts         0          0   \n",
      "31    src/commons/exceptions/MicrosserviceException.ts         1          1   \n",
      "36     src/comunidades/entities/userRelation.schema.ts         2          2   \n",
      "29              src/comunidades/comunidades.service.ts         9         14   \n",
      "28               src/comunidades/comunidades.module.ts         0          0   \n",
      "27           src/comunidades/comunidades.controller.ts         9          9   \n",
      "26       src/comunidades/entities/comunidade.schema.ts         2          2   \n",
      "25            src/comunidades/dto/communityUser.dto.ts         0          0   \n",
      "30          src/comunidades/dto/createCommunity.dto.ts         0          0   \n",
      "11     src/comunidades/entities/userRelation.schema.ts         2          2   \n",
      "10          src/comunidades/dto/updateCommunity.dto.ts         0          0   \n",
      "9             src/questionario/questionario.service.ts         4          4   \n",
      "8     src/questionario/entities/questionario.schema.ts         0          0   \n",
      "7          src/questionario/questionario.controller.ts         4          4   \n",
      "6     src/commons/exceptions/MicrosserviceException.ts         1          1   \n",
      "5           src/comunidades/dto/createCommunity.dto.ts         0          0   \n",
      "4               src/comunidades/comunidades.service.ts        13         19   \n",
      "3                src/comunidades/comunidades.module.ts         0          0   \n",
      "2            src/comunidades/comunidades.controller.ts        13         13   \n",
      "1        src/comunidades/entities/comunidade.schema.ts         2          2   \n",
      "0             src/comunidades/dto/communityUser.dto.ts         0          0   \n",
      "99          src/comunidades/dto/updateCommunity.dto.ts         0          0   \n",
      "100    src/comunidades/entities/userRelation.schema.ts         2          2   \n",
      "97    src/questionario/entities/questionario.schema.ts         2          2   \n",
      "96         src/questionario/questionario.controller.ts         4          4   \n",
      "95    src/commons/exceptions/MicrosserviceException.ts         1          1   \n",
      "98            src/questionario/questionario.service.ts         7         13   \n",
      "93              src/comunidades/comunidades.service.ts        13         19   \n",
      "92               src/comunidades/comunidades.module.ts         0          0   \n",
      "91           src/comunidades/comunidades.controller.ts        13         13   \n",
      "90       src/comunidades/entities/comunidade.schema.ts         2          2   \n",
      "89            src/comunidades/dto/communityUser.dto.ts         0          0   \n",
      "94          src/comunidades/dto/createCommunity.dto.ts         0          0   \n",
      "57     src/comunidades/entities/userRelation.schema.ts         2          2   \n",
      "56             src/comunidades/entities/user.schema.ts         2          2   \n",
      "55          src/comunidades/dto/updateCommunity.dto.ts         0          0   \n",
      "53    src/questionario/entities/questionario.schema.ts         2          2   \n",
      "52         src/questionario/questionario.controller.ts         4          4   \n",
      "51    src/commons/exceptions/MicrosserviceException.ts         1          1   \n",
      "54            src/questionario/questionario.service.ts         7         13   \n",
      "49              src/comunidades/comunidades.service.ts        17         25   \n",
      "48               src/comunidades/comunidades.module.ts         0          0   \n",
      "47           src/comunidades/comunidades.controller.ts        17         17   \n",
      "46       src/comunidades/entities/comunidade.schema.ts         2          2   \n",
      "45            src/comunidades/dto/communityUser.dto.ts         0          0   \n",
      "50          src/comunidades/dto/createCommunity.dto.ts         0          0   \n",
      "22          src/comunidades/dto/updateCommunity.dto.ts         0          0   \n",
      "21            src/questionario/questionario.service.ts         7         13   \n",
      "20    src/questionario/entities/questionario.schema.ts         2          2   \n",
      "19         src/questionario/questionario.controller.ts         4          4   \n",
      "18    src/commons/exceptions/MicrosserviceException.ts         1          1   \n",
      "15               src/comunidades/comunidades.module.ts         0          0   \n",
      "16              src/comunidades/comunidades.service.ts        17         25   \n",
      "14           src/comunidades/comunidades.controller.ts        17         17   \n",
      "13       src/comunidades/entities/comunidade.schema.ts         2          2   \n",
      "12            src/comunidades/dto/communityUser.dto.ts         0          0   \n",
      "23             src/comunidades/entities/user.schema.ts         2          2   \n",
      "17          src/comunidades/dto/createCommunity.dto.ts         0          0   \n",
      "24     src/comunidades/entities/userRelation.schema.ts         2          2   \n",
      "\n",
      "    comment_lines_density duplicated_lines_density coverage ncloc  \\\n",
      "58                    0.0                      0.0      NaN    20   \n",
      "78                    0.0                      0.0      NaN     5   \n",
      "77                    0.0                      0.0      NaN    21   \n",
      "76                    0.0                      0.0      NaN     4   \n",
      "75                    0.0                      0.0      NaN    30   \n",
      "74                    0.0                      0.0      NaN    59   \n",
      "73                    0.0                      0.0      NaN     9   \n",
      "72                    0.0                      0.0      NaN    20   \n",
      "71                    0.0                      0.0      NaN    17   \n",
      "69                    0.0                      0.0      NaN    30   \n",
      "70                    0.0                      0.0      NaN    28   \n",
      "67                    0.0                      0.0      NaN    16   \n",
      "66                    0.0                      0.0      NaN     7   \n",
      "65                    0.0                      0.0      NaN    14   \n",
      "64                    0.0                      0.0      NaN     8   \n",
      "63                    0.0                      0.0      NaN    11   \n",
      "62                    0.0                      0.0      NaN    16   \n",
      "61                    0.0                      0.0      NaN     1   \n",
      "60                    0.0                      0.0      NaN     4   \n",
      "59                    0.0                      0.0      NaN    15   \n",
      "68                    0.0                      0.0      NaN     1   \n",
      "42                    0.0                      0.0    100.0    10   \n",
      "44                    0.0                      0.0    100.0     6   \n",
      "43                    0.0                      0.0     92.3    30   \n",
      "41                    0.0                      0.0    100.0     5   \n",
      "37                    0.0                      0.0     72.7    23   \n",
      "39                    0.0                      0.0      NaN    15   \n",
      "38                    0.0                      0.0    100.0    29   \n",
      "40                    0.0                      0.0     87.1    43   \n",
      "88                    0.0                      0.0    100.0     6   \n",
      "87                    0.0                      0.0    100.0    33   \n",
      "86                    0.0                      0.0      0.0    11   \n",
      "85                    0.0                      0.0    100.0    21   \n",
      "84                    0.0                      0.0    100.0    10   \n",
      "82                    0.0                      0.0     87.1    43   \n",
      "81                    0.0                      0.0      NaN    15   \n",
      "80                    0.0                      0.0    100.0    29   \n",
      "79                    0.0                      0.0     72.7    23   \n",
      "83                    0.0                      0.0    100.0     5   \n",
      "32                    0.0                      0.0    100.0    21   \n",
      "35                    0.0                      0.0    100.0     6   \n",
      "34                    0.0                      0.0    100.0    33   \n",
      "33                    0.0                      0.0      0.0    11   \n",
      "31                    0.0                      0.0    100.0    10   \n",
      "36                    0.0                      0.0     76.9    26   \n",
      "29                    2.5                      0.0     89.6    79   \n",
      "28                    0.0                      0.0      NaN    20   \n",
      "27                    0.0                      0.0    100.0    46   \n",
      "26                    0.0                      0.0     72.7    23   \n",
      "25                    0.0                      0.0    100.0     4   \n",
      "30                    0.0                      0.0    100.0     5   \n",
      "11                    0.0                      0.0     76.9    26   \n",
      "10                    0.0                      0.0    100.0     6   \n",
      "9                     0.0                      0.0    100.0    33   \n",
      "8                     0.0                      0.0      0.0    11   \n",
      "7                     0.0                      0.0    100.0    21   \n",
      "6                     0.0                      0.0    100.0    10   \n",
      "5                     0.0                      0.0    100.0     5   \n",
      "4                     3.4                      0.0     95.3   112   \n",
      "3                     0.0                      0.0      NaN    21   \n",
      "2                     0.0                      0.0    100.0    62   \n",
      "1                     0.0                      0.0     72.7    23   \n",
      "0                     0.0                      0.0    100.0     4   \n",
      "99                    0.0                      0.0    100.0     6   \n",
      "100                   0.0                      0.0     76.9    26   \n",
      "97                    0.0                      0.0     76.5    34   \n",
      "96                    0.0                      0.0    100.0    21   \n",
      "95                    0.0                      0.0    100.0    10   \n",
      "98                    2.8                      0.0    100.0    69   \n",
      "93                    3.4                      0.0     95.3   112   \n",
      "92                    0.0                      0.0      NaN    21   \n",
      "91                    0.0                      0.0    100.0    62   \n",
      "90                    0.0                      0.0     72.7    23   \n",
      "89                    0.0                      0.0    100.0     4   \n",
      "94                    0.0                      0.0    100.0     5   \n",
      "57                    0.0                      0.0     76.9    26   \n",
      "56                    0.0                      0.0     81.0    35   \n",
      "55                    0.0                      0.0    100.0     6   \n",
      "53                    0.0                      0.0     76.5    34   \n",
      "52                    0.0                      0.0    100.0    21   \n",
      "51                    0.0                      0.0    100.0    10   \n",
      "54                    2.8                      0.0    100.0    69   \n",
      "49                    3.9                      0.0     72.6   148   \n",
      "48                    0.0                      0.0      NaN    21   \n",
      "47                    0.0                      0.0     90.9    78   \n",
      "46                    0.0                      0.0     72.7    23   \n",
      "45                    0.0                      0.0    100.0     4   \n",
      "50                    0.0                      0.0    100.0     5   \n",
      "22                    0.0                      0.0    100.0     6   \n",
      "21                    2.8                      0.0    100.0    69   \n",
      "20                    0.0                      0.0     76.5    34   \n",
      "19                    0.0                      0.0    100.0    21   \n",
      "18                    0.0                      0.0    100.0    10   \n",
      "15                    0.0                      0.0      NaN    23   \n",
      "16                    3.9                      0.0     72.6   148   \n",
      "14                    0.0                      0.0     90.9    78   \n",
      "13                    0.0                      0.0     72.7    23   \n",
      "12                    0.0                      0.0    100.0     4   \n",
      "23                    0.0                      0.0     81.0    35   \n",
      "17                    0.0                      0.0    100.0     5   \n",
      "24                    0.0                      0.0     76.9    26   \n",
      "\n",
      "    security_rating tests test_success_density test_execution_time  \\\n",
      "58              1.0   NaN                100.0                 NaN   \n",
      "78              1.0   NaN                100.0                 NaN   \n",
      "77              1.0   NaN                100.0                 NaN   \n",
      "76              1.0   NaN                100.0                 NaN   \n",
      "75              1.0   NaN                100.0                 NaN   \n",
      "74              1.0   NaN                100.0                 NaN   \n",
      "73              1.0   NaN                100.0                 NaN   \n",
      "72              1.0   NaN                100.0                 NaN   \n",
      "71              1.0   NaN                100.0                 NaN   \n",
      "69              1.0   NaN                100.0                 NaN   \n",
      "70              1.0   NaN                100.0                 NaN   \n",
      "67              1.0   NaN                100.0                 NaN   \n",
      "66              1.0   NaN                100.0                 NaN   \n",
      "65              1.0   NaN                100.0                 NaN   \n",
      "64              1.0   NaN                100.0                 NaN   \n",
      "63              1.0   NaN                100.0                 NaN   \n",
      "62              1.0   NaN                100.0                 NaN   \n",
      "61              1.0   NaN                100.0                 NaN   \n",
      "60              1.0   NaN                100.0                 NaN   \n",
      "59              1.0   NaN                100.0                 NaN   \n",
      "68              1.0   NaN                100.0                 NaN   \n",
      "42              1.0   NaN                100.0                 NaN   \n",
      "44              1.0   NaN                100.0                 NaN   \n",
      "43              1.0   NaN                100.0                 NaN   \n",
      "41              1.0   NaN                100.0                 NaN   \n",
      "37              1.0   NaN                100.0                 NaN   \n",
      "39              1.0   NaN                100.0                 NaN   \n",
      "38              1.0   NaN                100.0                 NaN   \n",
      "40              1.0   NaN                100.0                 NaN   \n",
      "88              1.0   NaN                100.0                 NaN   \n",
      "87              1.0   NaN                100.0                 NaN   \n",
      "86              1.0   NaN                100.0                 NaN   \n",
      "85              1.0   NaN                100.0                 NaN   \n",
      "84              1.0   NaN                100.0                 NaN   \n",
      "82              1.0   NaN                100.0                 NaN   \n",
      "81              1.0   NaN                100.0                 NaN   \n",
      "80              1.0   NaN                100.0                 NaN   \n",
      "79              1.0   NaN                100.0                 NaN   \n",
      "83              1.0   NaN                100.0                 NaN   \n",
      "32              1.0   NaN                100.0                 NaN   \n",
      "35              1.0   NaN                100.0                 NaN   \n",
      "34              1.0   NaN                100.0                 NaN   \n",
      "33              1.0   NaN                100.0                 NaN   \n",
      "31              1.0   NaN                100.0                 NaN   \n",
      "36              1.0   NaN                100.0                 NaN   \n",
      "29              1.0   NaN                100.0                 NaN   \n",
      "28              1.0   NaN                100.0                 NaN   \n",
      "27              1.0   NaN                100.0                 NaN   \n",
      "26              1.0   NaN                100.0                 NaN   \n",
      "25              1.0   NaN                100.0                 NaN   \n",
      "30              1.0   NaN                100.0                 NaN   \n",
      "11              1.0   NaN                100.0                 NaN   \n",
      "10              1.0   NaN                100.0                 NaN   \n",
      "9               1.0   NaN                100.0                 NaN   \n",
      "8               1.0   NaN                100.0                 NaN   \n",
      "7               1.0   NaN                100.0                 NaN   \n",
      "6               1.0   NaN                100.0                 NaN   \n",
      "5               1.0   NaN                100.0                 NaN   \n",
      "4               1.0   NaN                100.0                 NaN   \n",
      "3               1.0   NaN                100.0                 NaN   \n",
      "2               1.0   NaN                100.0                 NaN   \n",
      "1               1.0   NaN                100.0                 NaN   \n",
      "0               1.0   NaN                100.0                 NaN   \n",
      "99              1.0   NaN                100.0                 NaN   \n",
      "100             1.0   NaN                100.0                 NaN   \n",
      "97              1.0   NaN                100.0                 NaN   \n",
      "96              1.0   NaN                100.0                 NaN   \n",
      "95              1.0   NaN                100.0                 NaN   \n",
      "98              1.0   NaN                100.0                 NaN   \n",
      "93              1.0   NaN                100.0                 NaN   \n",
      "92              1.0   NaN                100.0                 NaN   \n",
      "91              1.0   NaN                100.0                 NaN   \n",
      "90              1.0   NaN                100.0                 NaN   \n",
      "89              1.0   NaN                100.0                 NaN   \n",
      "94              1.0   NaN                100.0                 NaN   \n",
      "57              1.0   NaN                100.0                 NaN   \n",
      "56              1.0   NaN                100.0                 NaN   \n",
      "55              1.0   NaN                100.0                 NaN   \n",
      "53              1.0   NaN                100.0                 NaN   \n",
      "52              1.0   NaN                100.0                 NaN   \n",
      "51              1.0   NaN                100.0                 NaN   \n",
      "54              1.0   NaN                100.0                 NaN   \n",
      "49              1.0   NaN                100.0                 NaN   \n",
      "48              1.0   NaN                100.0                 NaN   \n",
      "47              1.0   NaN                100.0                 NaN   \n",
      "46              1.0   NaN                100.0                 NaN   \n",
      "45              1.0   NaN                100.0                 NaN   \n",
      "50              1.0   NaN                100.0                 NaN   \n",
      "22              1.0   NaN                100.0                 NaN   \n",
      "21              1.0   NaN                100.0                 NaN   \n",
      "20              1.0   NaN                100.0                 NaN   \n",
      "19              1.0   NaN                100.0                 NaN   \n",
      "18              1.0   NaN                100.0                 NaN   \n",
      "15              1.0   NaN                100.0                 NaN   \n",
      "16              1.0   NaN                100.0                 NaN   \n",
      "14              1.0   NaN                100.0                 NaN   \n",
      "13              1.0   NaN                100.0                 NaN   \n",
      "12              1.0   NaN                100.0                 NaN   \n",
      "23              1.0   NaN                100.0                 NaN   \n",
      "17              1.0   NaN                100.0                 NaN   \n",
      "24              1.0   NaN                100.0                 NaN   \n",
      "\n",
      "    reliability_rating                                           filename  \\\n",
      "58                 1.0  fga-eps-mds-2021_1-Cartografia-social-api-comu...   \n",
      "78                 1.0  fga-eps-mds-2021_1-Cartografia-social-api-comu...   \n",
      "77                 1.0  fga-eps-mds-2021_1-Cartografia-social-api-comu...   \n",
      "76                 1.0  fga-eps-mds-2021_1-Cartografia-social-api-comu...   \n",
      "75                 1.0  fga-eps-mds-2021_1-Cartografia-social-api-comu...   \n",
      "74                 1.0  fga-eps-mds-2021_1-Cartografia-social-api-comu...   \n",
      "73                 1.0  fga-eps-mds-2021_1-Cartografia-social-api-comu...   \n",
      "72                 1.0  fga-eps-mds-2021_1-Cartografia-social-api-comu...   \n",
      "71                 1.0  fga-eps-mds-2021_1-Cartografia-social-api-comu...   \n",
      "69                 1.0  fga-eps-mds-2021_1-Cartografia-social-api-comu...   \n",
      "70                 1.0  fga-eps-mds-2021_1-Cartografia-social-api-comu...   \n",
      "67                 1.0  fga-eps-mds-2021_1-Cartografia-social-api-comu...   \n",
      "66                 1.0  fga-eps-mds-2021_1-Cartografia-social-api-comu...   \n",
      "65                 1.0  fga-eps-mds-2021_1-Cartografia-social-api-comu...   \n",
      "64                 1.0  fga-eps-mds-2021_1-Cartografia-social-api-comu...   \n",
      "63                 1.0  fga-eps-mds-2021_1-Cartografia-social-api-comu...   \n",
      "62                 1.0  fga-eps-mds-2021_1-Cartografia-social-api-comu...   \n",
      "61                 1.0  fga-eps-mds-2021_1-Cartografia-social-api-comu...   \n",
      "60                 1.0  fga-eps-mds-2021_1-Cartografia-social-api-comu...   \n",
      "59                 1.0  fga-eps-mds-2021_1-Cartografia-social-api-comu...   \n",
      "68                 1.0  fga-eps-mds-2021_1-Cartografia-social-api-comu...   \n",
      "42                 1.0  fga-eps-mds-2021_1-Cartografia-social-api-comu...   \n",
      "44                 1.0  fga-eps-mds-2021_1-Cartografia-social-api-comu...   \n",
      "43                 1.0  fga-eps-mds-2021_1-Cartografia-social-api-comu...   \n",
      "41                 1.0  fga-eps-mds-2021_1-Cartografia-social-api-comu...   \n",
      "37                 1.0  fga-eps-mds-2021_1-Cartografia-social-api-comu...   \n",
      "39                 1.0  fga-eps-mds-2021_1-Cartografia-social-api-comu...   \n",
      "38                 1.0  fga-eps-mds-2021_1-Cartografia-social-api-comu...   \n",
      "40                 1.0  fga-eps-mds-2021_1-Cartografia-social-api-comu...   \n",
      "88                 1.0  fga-eps-mds-2021_1-Cartografia-social-api-comu...   \n",
      "87                 1.0  fga-eps-mds-2021_1-Cartografia-social-api-comu...   \n",
      "86                 1.0  fga-eps-mds-2021_1-Cartografia-social-api-comu...   \n",
      "85                 1.0  fga-eps-mds-2021_1-Cartografia-social-api-comu...   \n",
      "84                 1.0  fga-eps-mds-2021_1-Cartografia-social-api-comu...   \n",
      "82                 1.0  fga-eps-mds-2021_1-Cartografia-social-api-comu...   \n",
      "81                 1.0  fga-eps-mds-2021_1-Cartografia-social-api-comu...   \n",
      "80                 1.0  fga-eps-mds-2021_1-Cartografia-social-api-comu...   \n",
      "79                 1.0  fga-eps-mds-2021_1-Cartografia-social-api-comu...   \n",
      "83                 1.0  fga-eps-mds-2021_1-Cartografia-social-api-comu...   \n",
      "32                 1.0  fga-eps-mds-2021_1-Cartografia-social-api-comu...   \n",
      "35                 1.0  fga-eps-mds-2021_1-Cartografia-social-api-comu...   \n",
      "34                 1.0  fga-eps-mds-2021_1-Cartografia-social-api-comu...   \n",
      "33                 1.0  fga-eps-mds-2021_1-Cartografia-social-api-comu...   \n",
      "31                 1.0  fga-eps-mds-2021_1-Cartografia-social-api-comu...   \n",
      "36                 1.0  fga-eps-mds-2021_1-Cartografia-social-api-comu...   \n",
      "29                 1.0  fga-eps-mds-2021_1-Cartografia-social-api-comu...   \n",
      "28                 1.0  fga-eps-mds-2021_1-Cartografia-social-api-comu...   \n",
      "27                 1.0  fga-eps-mds-2021_1-Cartografia-social-api-comu...   \n",
      "26                 1.0  fga-eps-mds-2021_1-Cartografia-social-api-comu...   \n",
      "25                 1.0  fga-eps-mds-2021_1-Cartografia-social-api-comu...   \n",
      "30                 1.0  fga-eps-mds-2021_1-Cartografia-social-api-comu...   \n",
      "11                 1.0  fga-eps-mds-2021_1-Cartografia-social-api-comu...   \n",
      "10                 1.0  fga-eps-mds-2021_1-Cartografia-social-api-comu...   \n",
      "9                  1.0  fga-eps-mds-2021_1-Cartografia-social-api-comu...   \n",
      "8                  1.0  fga-eps-mds-2021_1-Cartografia-social-api-comu...   \n",
      "7                  1.0  fga-eps-mds-2021_1-Cartografia-social-api-comu...   \n",
      "6                  1.0  fga-eps-mds-2021_1-Cartografia-social-api-comu...   \n",
      "5                  1.0  fga-eps-mds-2021_1-Cartografia-social-api-comu...   \n",
      "4                  1.0  fga-eps-mds-2021_1-Cartografia-social-api-comu...   \n",
      "3                  1.0  fga-eps-mds-2021_1-Cartografia-social-api-comu...   \n",
      "2                  1.0  fga-eps-mds-2021_1-Cartografia-social-api-comu...   \n",
      "1                  1.0  fga-eps-mds-2021_1-Cartografia-social-api-comu...   \n",
      "0                  1.0  fga-eps-mds-2021_1-Cartografia-social-api-comu...   \n",
      "99                 1.0  fga-eps-mds-2021_1-Cartografia-social-api-comu...   \n",
      "100                1.0  fga-eps-mds-2021_1-Cartografia-social-api-comu...   \n",
      "97                 1.0  fga-eps-mds-2021_1-Cartografia-social-api-comu...   \n",
      "96                 1.0  fga-eps-mds-2021_1-Cartografia-social-api-comu...   \n",
      "95                 1.0  fga-eps-mds-2021_1-Cartografia-social-api-comu...   \n",
      "98                 1.0  fga-eps-mds-2021_1-Cartografia-social-api-comu...   \n",
      "93                 1.0  fga-eps-mds-2021_1-Cartografia-social-api-comu...   \n",
      "92                 1.0  fga-eps-mds-2021_1-Cartografia-social-api-comu...   \n",
      "91                 1.0  fga-eps-mds-2021_1-Cartografia-social-api-comu...   \n",
      "90                 1.0  fga-eps-mds-2021_1-Cartografia-social-api-comu...   \n",
      "89                 1.0  fga-eps-mds-2021_1-Cartografia-social-api-comu...   \n",
      "94                 1.0  fga-eps-mds-2021_1-Cartografia-social-api-comu...   \n",
      "57                 1.0  fga-eps-mds-2021_1-Cartografia-social-api-comu...   \n",
      "56                 1.0  fga-eps-mds-2021_1-Cartografia-social-api-comu...   \n",
      "55                 1.0  fga-eps-mds-2021_1-Cartografia-social-api-comu...   \n",
      "53                 1.0  fga-eps-mds-2021_1-Cartografia-social-api-comu...   \n",
      "52                 1.0  fga-eps-mds-2021_1-Cartografia-social-api-comu...   \n",
      "51                 1.0  fga-eps-mds-2021_1-Cartografia-social-api-comu...   \n",
      "54                 1.0  fga-eps-mds-2021_1-Cartografia-social-api-comu...   \n",
      "49                 1.0  fga-eps-mds-2021_1-Cartografia-social-api-comu...   \n",
      "48                 1.0  fga-eps-mds-2021_1-Cartografia-social-api-comu...   \n",
      "47                 1.0  fga-eps-mds-2021_1-Cartografia-social-api-comu...   \n",
      "46                 1.0  fga-eps-mds-2021_1-Cartografia-social-api-comu...   \n",
      "45                 1.0  fga-eps-mds-2021_1-Cartografia-social-api-comu...   \n",
      "50                 1.0  fga-eps-mds-2021_1-Cartografia-social-api-comu...   \n",
      "22                 1.0  fga-eps-mds-2021_1-Cartografia-social-api-comu...   \n",
      "21                 1.0  fga-eps-mds-2021_1-Cartografia-social-api-comu...   \n",
      "20                 1.0  fga-eps-mds-2021_1-Cartografia-social-api-comu...   \n",
      "19                 1.0  fga-eps-mds-2021_1-Cartografia-social-api-comu...   \n",
      "18                 1.0  fga-eps-mds-2021_1-Cartografia-social-api-comu...   \n",
      "15                 1.0  fga-eps-mds-2021_1-Cartografia-social-api-comu...   \n",
      "16                 1.0  fga-eps-mds-2021_1-Cartografia-social-api-comu...   \n",
      "14                 1.0  fga-eps-mds-2021_1-Cartografia-social-api-comu...   \n",
      "13                 1.0  fga-eps-mds-2021_1-Cartografia-social-api-comu...   \n",
      "12                 1.0  fga-eps-mds-2021_1-Cartografia-social-api-comu...   \n",
      "23                 1.0  fga-eps-mds-2021_1-Cartografia-social-api-comu...   \n",
      "17                 1.0  fga-eps-mds-2021_1-Cartografia-social-api-comu...   \n",
      "24                 1.0  fga-eps-mds-2021_1-Cartografia-social-api-comu...   \n",
      "\n",
      "                             repository version  \n",
      "58   Cartografia-social-api-comunidades  v0.0.1  \n",
      "78   Cartografia-social-api-comunidades  v0.0.1  \n",
      "77   Cartografia-social-api-comunidades  v0.0.1  \n",
      "76   Cartografia-social-api-comunidades  v0.0.1  \n",
      "75   Cartografia-social-api-comunidades  v0.0.1  \n",
      "74   Cartografia-social-api-comunidades  v0.0.1  \n",
      "73   Cartografia-social-api-comunidades  v0.0.1  \n",
      "72   Cartografia-social-api-comunidades  v0.0.1  \n",
      "71   Cartografia-social-api-comunidades  v0.0.1  \n",
      "69   Cartografia-social-api-comunidades  v0.0.1  \n",
      "70   Cartografia-social-api-comunidades  v0.0.1  \n",
      "67   Cartografia-social-api-comunidades  v0.0.1  \n",
      "66   Cartografia-social-api-comunidades  v0.0.1  \n",
      "65   Cartografia-social-api-comunidades  v0.0.1  \n",
      "64   Cartografia-social-api-comunidades  v0.0.1  \n",
      "63   Cartografia-social-api-comunidades  v0.0.1  \n",
      "62   Cartografia-social-api-comunidades  v0.0.1  \n",
      "61   Cartografia-social-api-comunidades  v0.0.1  \n",
      "60   Cartografia-social-api-comunidades  v0.0.1  \n",
      "59   Cartografia-social-api-comunidades  v0.0.1  \n",
      "68   Cartografia-social-api-comunidades  v0.0.1  \n",
      "42   Cartografia-social-api-comunidades  v0.0.3  \n",
      "44   Cartografia-social-api-comunidades  v0.0.3  \n",
      "43   Cartografia-social-api-comunidades  v0.0.3  \n",
      "41   Cartografia-social-api-comunidades  v0.0.3  \n",
      "37   Cartografia-social-api-comunidades  v0.0.3  \n",
      "39   Cartografia-social-api-comunidades  v0.0.3  \n",
      "38   Cartografia-social-api-comunidades  v0.0.3  \n",
      "40   Cartografia-social-api-comunidades  v0.0.3  \n",
      "88   Cartografia-social-api-comunidades  v0.0.4  \n",
      "87   Cartografia-social-api-comunidades  v0.0.4  \n",
      "86   Cartografia-social-api-comunidades  v0.0.4  \n",
      "85   Cartografia-social-api-comunidades  v0.0.4  \n",
      "84   Cartografia-social-api-comunidades  v0.0.4  \n",
      "82   Cartografia-social-api-comunidades  v0.0.4  \n",
      "81   Cartografia-social-api-comunidades  v0.0.4  \n",
      "80   Cartografia-social-api-comunidades  v0.0.4  \n",
      "79   Cartografia-social-api-comunidades  v0.0.4  \n",
      "83   Cartografia-social-api-comunidades  v0.0.4  \n",
      "32   Cartografia-social-api-comunidades  v0.0.5  \n",
      "35   Cartografia-social-api-comunidades  v0.0.5  \n",
      "34   Cartografia-social-api-comunidades  v0.0.5  \n",
      "33   Cartografia-social-api-comunidades  v0.0.5  \n",
      "31   Cartografia-social-api-comunidades  v0.0.5  \n",
      "36   Cartografia-social-api-comunidades  v0.0.5  \n",
      "29   Cartografia-social-api-comunidades  v0.0.5  \n",
      "28   Cartografia-social-api-comunidades  v0.0.5  \n",
      "27   Cartografia-social-api-comunidades  v0.0.5  \n",
      "26   Cartografia-social-api-comunidades  v0.0.5  \n",
      "25   Cartografia-social-api-comunidades  v0.0.5  \n",
      "30   Cartografia-social-api-comunidades  v0.0.5  \n",
      "11   Cartografia-social-api-comunidades  v0.0.6  \n",
      "10   Cartografia-social-api-comunidades  v0.0.6  \n",
      "9    Cartografia-social-api-comunidades  v0.0.6  \n",
      "8    Cartografia-social-api-comunidades  v0.0.6  \n",
      "7    Cartografia-social-api-comunidades  v0.0.6  \n",
      "6    Cartografia-social-api-comunidades  v0.0.6  \n",
      "5    Cartografia-social-api-comunidades  v0.0.6  \n",
      "4    Cartografia-social-api-comunidades  v0.0.6  \n",
      "3    Cartografia-social-api-comunidades  v0.0.6  \n",
      "2    Cartografia-social-api-comunidades  v0.0.6  \n",
      "1    Cartografia-social-api-comunidades  v0.0.6  \n",
      "0    Cartografia-social-api-comunidades  v0.0.6  \n",
      "99   Cartografia-social-api-comunidades  v0.0.7  \n",
      "100  Cartografia-social-api-comunidades  v0.0.7  \n",
      "97   Cartografia-social-api-comunidades  v0.0.7  \n",
      "96   Cartografia-social-api-comunidades  v0.0.7  \n",
      "95   Cartografia-social-api-comunidades  v0.0.7  \n",
      "98   Cartografia-social-api-comunidades  v0.0.7  \n",
      "93   Cartografia-social-api-comunidades  v0.0.7  \n",
      "92   Cartografia-social-api-comunidades  v0.0.7  \n",
      "91   Cartografia-social-api-comunidades  v0.0.7  \n",
      "90   Cartografia-social-api-comunidades  v0.0.7  \n",
      "89   Cartografia-social-api-comunidades  v0.0.7  \n",
      "94   Cartografia-social-api-comunidades  v0.0.7  \n",
      "57   Cartografia-social-api-comunidades  v0.0.8  \n",
      "56   Cartografia-social-api-comunidades  v0.0.8  \n",
      "55   Cartografia-social-api-comunidades  v0.0.8  \n",
      "53   Cartografia-social-api-comunidades  v0.0.8  \n",
      "52   Cartografia-social-api-comunidades  v0.0.8  \n",
      "51   Cartografia-social-api-comunidades  v0.0.8  \n",
      "54   Cartografia-social-api-comunidades  v0.0.8  \n",
      "49   Cartografia-social-api-comunidades  v0.0.8  \n",
      "48   Cartografia-social-api-comunidades  v0.0.8  \n",
      "47   Cartografia-social-api-comunidades  v0.0.8  \n",
      "46   Cartografia-social-api-comunidades  v0.0.8  \n",
      "45   Cartografia-social-api-comunidades  v0.0.8  \n",
      "50   Cartografia-social-api-comunidades  v0.0.8  \n",
      "22   Cartografia-social-api-comunidades  v0.0.9  \n",
      "21   Cartografia-social-api-comunidades  v0.0.9  \n",
      "20   Cartografia-social-api-comunidades  v0.0.9  \n",
      "19   Cartografia-social-api-comunidades  v0.0.9  \n",
      "18   Cartografia-social-api-comunidades  v0.0.9  \n",
      "15   Cartografia-social-api-comunidades  v0.0.9  \n",
      "16   Cartografia-social-api-comunidades  v0.0.9  \n",
      "14   Cartografia-social-api-comunidades  v0.0.9  \n",
      "13   Cartografia-social-api-comunidades  v0.0.9  \n",
      "12   Cartografia-social-api-comunidades  v0.0.9  \n",
      "23   Cartografia-social-api-comunidades  v0.0.9  \n",
      "17   Cartografia-social-api-comunidades  v0.0.9  \n",
      "24   Cartografia-social-api-comunidades  v0.0.9  \n"
     ]
    }
   ],
   "source": [
    "api_comunidades_df = file_component_df[file_component_df['repository'] == 'Cartografia-social-api-comunidades']\n",
    "...\n",
    "#api_gateway_df = file_component_df[file_component_df['repository'] == '2021.1-Cartografia-social-api-gateway']\n",
    "#api_mapas_df = file_component_df[file_component_df['repository'] == '2021.1-Cartografia-social-api-mapas']\n",
    "#api_midia_df = file_component_df[file_component_df['repository'] == '2021.1-Cartografia-social-api-midia']\n",
    "#api_users_df = file_component_df[file_component_df['repository'] == '2021.1-Cartografia-social-api-users']\n",
    "#front_df = file_component_df[file_component_df['repository'] == '2021.1-Cartografia-social-api-front']\n",
    "\n",
    "print(api_comunidades_df)"
   ]
  },
  {
   "cell_type": "markdown",
   "metadata": {},
   "source": [
    "### Metric calculations"
   ]
  },
  {
   "cell_type": "markdown",
   "metadata": {},
   "source": [
    "##### COMPLEXITY"
   ]
  },
  {
   "cell_type": "code",
   "execution_count": 171,
   "metadata": {},
   "outputs": [],
   "source": [
    "def m1(df):\n",
    "    \n",
    "    density_non_complex_files = len(df[(df['complexity'].astype(float)/df['functions'].astype(float)) < 10])/len(df)\n",
    "    \n",
    "    return density_non_complex_files"
   ]
  },
  {
   "cell_type": "markdown",
   "metadata": {},
   "source": [
    "##### COMMENTS"
   ]
  },
  {
   "cell_type": "code",
   "execution_count": 172,
   "metadata": {},
   "outputs": [],
   "source": [
    "def m2(df):\n",
    "    \n",
    "    density_comment_files = len(df[(df['comment_lines_density'].astype(float) > 10) & (df['comment_lines_density'].astype(float) < 30)])/len(df)\n",
    "    \n",
    "    return density_comment_files"
   ]
  },
  {
   "cell_type": "markdown",
   "metadata": {},
   "source": [
    "##### DUPLICATIONS"
   ]
  },
  {
   "cell_type": "code",
   "execution_count": 173,
   "metadata": {},
   "outputs": [],
   "source": [
    "def m3(df):\n",
    "    \n",
    "    duplication = len(df[(df['duplicated_lines_density'].astype(float) < 5)])/len(df)\n",
    "    \n",
    "    return duplication"
   ]
  },
  {
   "cell_type": "markdown",
   "metadata": {},
   "source": [
    "### NCLOC"
   ]
  },
  {
   "cell_type": "code",
   "execution_count": 174,
   "metadata": {},
   "outputs": [],
   "source": [
    "def _ncloc(df):\n",
    "    ncloc = 0\n",
    "    for each in df['ncloc']:\n",
    "        ncloc += int(each)\n",
    "    \n",
    "    return ncloc"
   ]
  },
  {
   "cell_type": "markdown",
   "metadata": {},
   "source": [
    "##### PRODUCTIVITY"
   ]
  },
  {
   "cell_type": "markdown",
   "metadata": {},
   "source": [
    "#### RESOLVED ISSUES' THROUGHPUT"
   ]
  },
  {
   "cell_type": "code",
   "execution_count": 175,
   "metadata": {},
   "outputs": [],
   "source": [
    "def m7(number_of_issues_resolved, number_of_issues):\n",
    "    \n",
    "    resolved_issues_throughput = round((number_of_issues_resolved / number_of_issues) * 100, 2)\n",
    "    \n",
    "    return resolved_issues_throughput"
   ]
  },
  {
   "cell_type": "markdown",
   "metadata": {},
   "source": [
    "#### ISSUE TYPE IN A TIMEFRAME"
   ]
  },
  {
   "cell_type": "code",
   "execution_count": 176,
   "metadata": {},
   "outputs": [],
   "source": [
    "def density(issue, number_of_issues):\n",
    "    issue_density = round((issue / number_of_issues) * 100, 2)\n",
    "    return issue_density"
   ]
  },
  {
   "cell_type": "code",
   "execution_count": 177,
   "metadata": {},
   "outputs": [],
   "source": [
    "def m8(tag_dict, number_of_issues):\n",
    "    \n",
    "    issue_densities = {\n",
    "        \"hotfix\": [density(tag_dict[\"HOTFIX\"], number_of_issues)],\n",
    "        \"docs\": [density(tag_dict[\"DOCS\"], number_of_issues)],\n",
    "        \"feature\": [density(tag_dict[\"FEATURE\"], number_of_issues)],\n",
    "        \"arq\": [density(tag_dict[\"ARQ\"], number_of_issues)],\n",
    "        \"devops\": [density(tag_dict[\"DEVOPS\"], number_of_issues)],\n",
    "        \"analytics\": [density(tag_dict[\"ANALYTICS\"], number_of_issues)],\n",
    "        \"us\": [density(tag_dict[\"US\"], number_of_issues)],\n",
    "        \"easy\": [density(tag_dict[\"EASY\"], number_of_issues)],\n",
    "        \"medium\": [density(tag_dict[\"MEDIUM\"], number_of_issues)],\n",
    "        \"hard\": [density(tag_dict[\"HARD\"], number_of_issues)],\n",
    "        \"eps\": [density(tag_dict[\"EPS\"], number_of_issues)],\n",
    "        \"mds\": [density(tag_dict[\"MDS\"], number_of_issues)]\n",
    "    }\n",
    "\n",
    "    issue_densities = pd.DataFrame.from_dict(issue_densities).T.reset_index()\n",
    "    \n",
    "    issue_densities.columns = ['density' ,'percentage']\n",
    "    \n",
    "    return issue_densities"
   ]
  },
  {
   "cell_type": "code",
   "execution_count": 178,
   "metadata": {},
   "outputs": [],
   "source": [
    "issues = glob('issues.json')\n",
    "sprints = glob('sprints.json')\n",
    "all_issues = read_json(issues[0])"
   ]
  },
  {
   "cell_type": "markdown",
   "metadata": {},
   "source": [
    "### Generate M8 and Create CSV"
   ]
  },
  {
   "cell_type": "code",
   "execution_count": 179,
   "metadata": {},
   "outputs": [],
   "source": [
    "def calculate_m8(all_issues):\n",
    "    for issue in all_issues:\n",
    "        df = m8(all_issues[issue]['TAGS'], NUMBER_OF_ISSUES)\n",
    "        df.to_csv(f'fga-eps-mds-2021-1-Cartografia-social-qualidade-total-processo-m8-{int(issue.split(\" \")[1])}.csv')"
   ]
  },
  {
   "cell_type": "code",
   "execution_count": 180,
   "metadata": {},
   "outputs": [],
   "source": [
    "TAGS = {\n",
    "    'HOTFIX': 15,\n",
    "    'DOCS': 121,\n",
    "    'FEATURE': 32,\n",
    "    'ARQ': 15,\n",
    "    'DEVOPS': 12,\n",
    "    'ANALYTICS': 23,\n",
    "    'US': 19,\n",
    "    'EASY': 28,\n",
    "    'MEDIUM': 22,\n",
    "    'HARD': 7,\n",
    "    'EPS': 61,\n",
    "    'MDS': 41\n",
    "}\n",
    "NUMBER_OF_ISSUES_RESOLVED=201\n",
    "NUMBER_OF_ISSUES=236"
   ]
  },
  {
   "cell_type": "code",
   "execution_count": 181,
   "metadata": {},
   "outputs": [],
   "source": [
    "calculate_m8(all_issues)"
   ]
  },
  {
   "cell_type": "markdown",
   "metadata": {},
   "source": [
    "#### BUGS RATIO"
   ]
  },
  {
   "cell_type": "code",
   "execution_count": 182,
   "metadata": {},
   "outputs": [],
   "source": [
    "def m9(tag_dict, number_of_issues):\n",
    "    \n",
    "    bugs_ratio = round(((tag_dict[\"DOCS\"] + tag_dict[\"FEATURE\"] + tag_dict[\"ARQ\"] + tag_dict[\"DEVOPS\"] + tag_dict[\"ANALYTICS\"]) / number_of_issues) * 100, 2)\n",
    "    \n",
    "    return bugs_ratio"
   ]
  },
  {
   "cell_type": "code",
   "execution_count": 183,
   "metadata": {},
   "outputs": [],
   "source": [
    "#df = pd.read_csv('result.csv')"
   ]
  },
  {
   "cell_type": "code",
   "execution_count": 184,
   "metadata": {},
   "outputs": [
    {
     "data": {
      "text/plain": [
       "85.17"
      ]
     },
     "execution_count": 184,
     "metadata": {},
     "output_type": "execute_result"
    }
   ],
   "source": [
    "m7(NUMBER_OF_ISSUES_RESOLVED, NUMBER_OF_ISSUES)"
   ]
  },
  {
   "cell_type": "code",
   "execution_count": 185,
   "metadata": {},
   "outputs": [
    {
     "data": {
      "text/html": [
       "<div>\n",
       "<style scoped>\n",
       "    .dataframe tbody tr th:only-of-type {\n",
       "        vertical-align: middle;\n",
       "    }\n",
       "\n",
       "    .dataframe tbody tr th {\n",
       "        vertical-align: top;\n",
       "    }\n",
       "\n",
       "    .dataframe thead th {\n",
       "        text-align: right;\n",
       "    }\n",
       "</style>\n",
       "<table border=\"1\" class=\"dataframe\">\n",
       "  <thead>\n",
       "    <tr style=\"text-align: right;\">\n",
       "      <th></th>\n",
       "      <th>density</th>\n",
       "      <th>percentage</th>\n",
       "    </tr>\n",
       "  </thead>\n",
       "  <tbody>\n",
       "    <tr>\n",
       "      <th>0</th>\n",
       "      <td>hotfix</td>\n",
       "      <td>6.36</td>\n",
       "    </tr>\n",
       "    <tr>\n",
       "      <th>1</th>\n",
       "      <td>docs</td>\n",
       "      <td>51.27</td>\n",
       "    </tr>\n",
       "    <tr>\n",
       "      <th>2</th>\n",
       "      <td>feature</td>\n",
       "      <td>13.56</td>\n",
       "    </tr>\n",
       "    <tr>\n",
       "      <th>3</th>\n",
       "      <td>arq</td>\n",
       "      <td>6.36</td>\n",
       "    </tr>\n",
       "    <tr>\n",
       "      <th>4</th>\n",
       "      <td>devops</td>\n",
       "      <td>5.08</td>\n",
       "    </tr>\n",
       "    <tr>\n",
       "      <th>5</th>\n",
       "      <td>analytics</td>\n",
       "      <td>9.75</td>\n",
       "    </tr>\n",
       "    <tr>\n",
       "      <th>6</th>\n",
       "      <td>us</td>\n",
       "      <td>8.05</td>\n",
       "    </tr>\n",
       "    <tr>\n",
       "      <th>7</th>\n",
       "      <td>easy</td>\n",
       "      <td>11.86</td>\n",
       "    </tr>\n",
       "    <tr>\n",
       "      <th>8</th>\n",
       "      <td>medium</td>\n",
       "      <td>9.32</td>\n",
       "    </tr>\n",
       "    <tr>\n",
       "      <th>9</th>\n",
       "      <td>hard</td>\n",
       "      <td>2.97</td>\n",
       "    </tr>\n",
       "    <tr>\n",
       "      <th>10</th>\n",
       "      <td>eps</td>\n",
       "      <td>25.85</td>\n",
       "    </tr>\n",
       "    <tr>\n",
       "      <th>11</th>\n",
       "      <td>mds</td>\n",
       "      <td>17.37</td>\n",
       "    </tr>\n",
       "  </tbody>\n",
       "</table>\n",
       "</div>"
      ],
      "text/plain": [
       "      density  percentage\n",
       "0      hotfix        6.36\n",
       "1        docs       51.27\n",
       "2     feature       13.56\n",
       "3         arq        6.36\n",
       "4      devops        5.08\n",
       "5   analytics        9.75\n",
       "6          us        8.05\n",
       "7        easy       11.86\n",
       "8      medium        9.32\n",
       "9        hard        2.97\n",
       "10        eps       25.85\n",
       "11        mds       17.37"
      ]
     },
     "execution_count": 185,
     "metadata": {},
     "output_type": "execute_result"
    }
   ],
   "source": [
    "m8(TAGS, NUMBER_OF_ISSUES)"
   ]
  },
  {
   "cell_type": "code",
   "execution_count": 186,
   "metadata": {},
   "outputs": [
    {
     "data": {
      "text/plain": [
       "86.02"
      ]
     },
     "execution_count": 186,
     "metadata": {},
     "output_type": "execute_result"
    }
   ],
   "source": [
    "m9(TAGS, NUMBER_OF_ISSUES)"
   ]
  },
  {
   "cell_type": "markdown",
   "metadata": {},
   "source": [
    "### Calculate m1, m2, m3, m7, m8, m9 for each repository"
   ]
  },
  {
   "cell_type": "code",
   "execution_count": 187,
   "metadata": {},
   "outputs": [],
   "source": [
    "def create_metrics_df(df):\n",
    "    \n",
    "    version_vec = df['version'].unique()\n",
    "    \n",
    "    m1_list = []\n",
    "    m2_list = []\n",
    "    m3_list = []\n",
    "    repository_list = []\n",
    "    version_list = []\n",
    "    ncloc_list = []\n",
    "    \n",
    "    metrics_df = pd.DataFrame()\n",
    "    \n",
    "    for version in version_vec:\n",
    "\n",
    "        version_df = df[df['version'] == version]\n",
    "\n",
    "        m1_list.append(m1(version_df))\n",
    "        m2_list.append(m2(version_df))\n",
    "        m3_list.append(m3(version_df))\n",
    "        repository_list.append(version_df['repository'].iloc[0])\n",
    "        version_list.append(version)\n",
    "        ncloc_list.append(_ncloc(version_df))\n",
    "        \n",
    "    metrics_df = pd.DataFrame({'m1': m1_list,\n",
    "                               'm2': m2_list,\n",
    "                               'm3': m3_list,\n",
    "                               'repository': repository_list, \n",
    "                               'version': version_list,\n",
    "                               'ncloc': ncloc_list\n",
    "                              })\n",
    "    \n",
    "    metrics_df.to_csv('result.csv')\n",
    "        \n",
    "    return metrics_df"
   ]
  },
  {
   "cell_type": "code",
   "execution_count": 188,
   "metadata": {},
   "outputs": [],
   "source": [
    "repository_metrics = {}\n",
    "\n",
    "for repository, repo_df in repository_dataframes.items():   \n",
    "    metrics_df = create_metrics_df(repo_df)\n",
    "    metrics_df.name = f\"{repository}\"\n",
    "    repository_metrics[f\"{repository}\"] = metrics_df"
   ]
  },
  {
   "cell_type": "code",
   "execution_count": 189,
   "metadata": {},
   "outputs": [],
   "source": [
    "def create_df(base_issue_data):\n",
    "    base_issue_m7 = []\n",
    "    base_issue_m9 = []\n",
    "    sprint_list = []\n",
    "    start_list = []\n",
    "    end_list = []\n",
    "\n",
    "    for issue in base_issue_data:\n",
    "        base_issue_m7.append(m7(base_issue_data[issue]['CLOSED_ISSUES'], NUMBER_OF_ISSUES))\n",
    "        base_issue_m9.append(m9(base_issue_data[issue]['TAGS'], NUMBER_OF_ISSUES))\n",
    "        sprint_list.append(int(issue.split(\" \")[1]))\n",
    "        start_list.append(all_sprints[issue]['start'])\n",
    "        end_list.append(all_sprints[issue]['end'])\n",
    "    df = pd.DataFrame({\n",
    "                       'm7': base_issue_m7, \n",
    "                       'm9': base_issue_m9, \n",
    "                       'sprints': sprint_list,\n",
    "                       'start_sprint': start_list,\n",
    "                       'end_sprint': end_list\n",
    "                    })\n",
    "    metrics_df.to_csv('fga-eps-mds-2021-1-Cartografia-social-qualidade-total-processo.csv')\n",
    "    \n",
    "    return df"
   ]
  },
  {
   "cell_type": "code",
   "execution_count": 190,
   "metadata": {},
   "outputs": [],
   "source": [
    "issue_df = create_df(all_issues)\n",
    "issue_df['start_sprint'] = pd.to_datetime(issue_df['start_sprint'], format='%d/%m/%Y')\n",
    "issue_df['end_sprint'] = pd.to_datetime(issue_df['end_sprint'], format='%d/%m/%Y')"
   ]
  },
  {
   "cell_type": "code",
   "execution_count": 191,
   "metadata": {},
   "outputs": [],
   "source": [
    "api_comunidades_metrics = create_metrics_df(api_comunidades_df)\n",
    "...\n",
    "#api_gateway_metrics = create_metrics_df(api_gateway_df)\n",
    "#api_mapas_metrics = create_metrics_df(api_mapas_df)\n",
    "#api_midia_metrics = create_metrics_df(api_midia_df)\n",
    "#api_users_metrics = create_metrics_df(api_users_df)\n",
    "#front_metrics = create_metrics_df(front_df)"
   ]
  },
  {
   "cell_type": "code",
   "execution_count": 192,
   "metadata": {},
   "outputs": [],
   "source": [
    "all_metrics = pd.concat([api_comunidades_metrics], ignore_index=True)"
   ]
  },
  {
   "cell_type": "code",
   "execution_count": 193,
   "metadata": {},
   "outputs": [],
   "source": [
    "def add_m7_and_m9(metrics_df):\n",
    "\n",
    "    m7_list = []\n",
    "    m9_list = []\n",
    "\n",
    "    for _, release in metrics_df.iterrows():\n",
    "\n",
    "        curr_version = release['version']\n",
    "\n",
    "        for _, row in issue_df.iterrows():\n",
    "            if pd.Timestamp.to_numpy(row['start_sprint']) <= curr_version <= pd.Timestamp.to_numpy(row['end_sprint']):\n",
    "                m7_list.append(row['m7'])\n",
    "                m9_list.append(row['m9'])\n",
    "\n",
    "    m7_list = pd.DataFrame(m7_list, columns=['m7'])\n",
    "    m9_list = pd.DataFrame(m9_list, columns=['m9'])\n",
    "\n",
    "    metrics_df = pd.concat([metrics_df, m7_list], axis=1)\n",
    "    metrics_df = pd.concat([metrics_df, m9_list], axis=1)\n",
    "\n",
    "    return metrics_df"
   ]
  },
  {
   "cell_type": "code",
   "execution_count": 194,
   "metadata": {},
   "outputs": [
    {
     "ename": "TypeError",
     "evalue": "'<=' not supported between instances of 'numpy.ndarray' and 'str'",
     "output_type": "error",
     "traceback": [
      "\u001b[0;31m---------------------------------------------------------------------------\u001b[0m",
      "\u001b[0;31mTypeError\u001b[0m                                 Traceback (most recent call last)",
      "\u001b[0;32m<ipython-input-194-d2ede6aabcf0>\u001b[0m in \u001b[0;36m<module>\u001b[0;34m\u001b[0m\n\u001b[0;32m----> 1\u001b[0;31m \u001b[0mapi_comunidades_metrics\u001b[0m \u001b[0;34m=\u001b[0m \u001b[0madd_m7_and_m9\u001b[0m\u001b[0;34m(\u001b[0m\u001b[0mapi_comunidades_metrics\u001b[0m\u001b[0;34m)\u001b[0m\u001b[0;34m\u001b[0m\u001b[0;34m\u001b[0m\u001b[0m\n\u001b[0m\u001b[1;32m      2\u001b[0m \u001b[0mall_metrics\u001b[0m \u001b[0;34m=\u001b[0m \u001b[0madd_m7_and_m9\u001b[0m\u001b[0;34m(\u001b[0m\u001b[0mall_metrics\u001b[0m\u001b[0;34m)\u001b[0m\u001b[0;34m\u001b[0m\u001b[0;34m\u001b[0m\u001b[0m\n",
      "\u001b[0;32m<ipython-input-193-c03b66e83c7e>\u001b[0m in \u001b[0;36madd_m7_and_m9\u001b[0;34m(metrics_df)\u001b[0m\n\u001b[1;32m      9\u001b[0m \u001b[0;34m\u001b[0m\u001b[0m\n\u001b[1;32m     10\u001b[0m         \u001b[0;32mfor\u001b[0m \u001b[0m_\u001b[0m\u001b[0;34m,\u001b[0m \u001b[0mrow\u001b[0m \u001b[0;32min\u001b[0m \u001b[0missue_df\u001b[0m\u001b[0;34m.\u001b[0m\u001b[0miterrows\u001b[0m\u001b[0;34m(\u001b[0m\u001b[0;34m)\u001b[0m\u001b[0;34m:\u001b[0m\u001b[0;34m\u001b[0m\u001b[0;34m\u001b[0m\u001b[0m\n\u001b[0;32m---> 11\u001b[0;31m             \u001b[0;32mif\u001b[0m \u001b[0mpd\u001b[0m\u001b[0;34m.\u001b[0m\u001b[0mTimestamp\u001b[0m\u001b[0;34m.\u001b[0m\u001b[0mto_numpy\u001b[0m\u001b[0;34m(\u001b[0m\u001b[0mrow\u001b[0m\u001b[0;34m[\u001b[0m\u001b[0;34m'start_sprint'\u001b[0m\u001b[0;34m]\u001b[0m\u001b[0;34m)\u001b[0m \u001b[0;34m<=\u001b[0m \u001b[0mcurr_version\u001b[0m \u001b[0;34m<=\u001b[0m \u001b[0mpd\u001b[0m\u001b[0;34m.\u001b[0m\u001b[0mTimestamp\u001b[0m\u001b[0;34m.\u001b[0m\u001b[0mto_numpy\u001b[0m\u001b[0;34m(\u001b[0m\u001b[0mrow\u001b[0m\u001b[0;34m[\u001b[0m\u001b[0;34m'end_sprint'\u001b[0m\u001b[0;34m]\u001b[0m\u001b[0;34m)\u001b[0m\u001b[0;34m:\u001b[0m\u001b[0;34m\u001b[0m\u001b[0;34m\u001b[0m\u001b[0m\n\u001b[0m\u001b[1;32m     12\u001b[0m                 \u001b[0mm7_list\u001b[0m\u001b[0;34m.\u001b[0m\u001b[0mappend\u001b[0m\u001b[0;34m(\u001b[0m\u001b[0mrow\u001b[0m\u001b[0;34m[\u001b[0m\u001b[0;34m'm7'\u001b[0m\u001b[0;34m]\u001b[0m\u001b[0;34m)\u001b[0m\u001b[0;34m\u001b[0m\u001b[0;34m\u001b[0m\u001b[0m\n\u001b[1;32m     13\u001b[0m                 \u001b[0mm9_list\u001b[0m\u001b[0;34m.\u001b[0m\u001b[0mappend\u001b[0m\u001b[0;34m(\u001b[0m\u001b[0mrow\u001b[0m\u001b[0;34m[\u001b[0m\u001b[0;34m'm9'\u001b[0m\u001b[0;34m]\u001b[0m\u001b[0;34m)\u001b[0m\u001b[0;34m\u001b[0m\u001b[0;34m\u001b[0m\u001b[0m\n",
      "\u001b[0;31mTypeError\u001b[0m: '<=' not supported between instances of 'numpy.ndarray' and 'str'"
     ]
    }
   ],
   "source": [
    "api_comunidades_metrics = add_m7_and_m9(api_comunidades_metrics)\n",
    "all_metrics = add_m7_and_m9(all_metrics)"
   ]
  },
  {
   "cell_type": "code",
   "execution_count": null,
   "metadata": {},
   "outputs": [],
   "source": [
    "def calculate_ac(df):\n",
    "    df['asc1'] = (df['m1'] + df['m2'] + df['m3']) / 3\n",
    "    df['ac1'] = df['asc1']\n",
    "    df['totalAC1'] = df['asc1']\n",
    "    return df"
   ]
  },
  {
   "cell_type": "code",
   "execution_count": null,
   "metadata": {},
   "outputs": [],
   "source": [
    "def calculate_ac2(issue_df):\n",
    "    aux_df = pd.DataFrame({\n",
    "        \"asc2\": [],\n",
    "        \"totalAC2\": []\n",
    "    })\n",
    "    aux_df['asc2'] = (issue_df['m7'] + issue_df['m9']) / 2\n",
    "    aux_df['totalAC2'] = aux_df['asc2']\n",
    "    return pd.concat([issue_df, aux_df], 1)\n",
    "\n",
    "issue_df_v2 = calculate_ac2(issue_df)"
   ]
  },
  {
   "cell_type": "code",
   "execution_count": null,
   "metadata": {},
   "outputs": [],
   "source": [
    "api_comunidades_metrics = calculate_ac(api_comunidades_metrics)\n",
    "all_metrics = calculate_ac(all_metrics)"
   ]
  },
  {
   "cell_type": "code",
   "execution_count": null,
   "metadata": {},
   "outputs": [],
   "source": [
    "api_comunidades_metrics = calculate_ac2(api_comunidades_metrics)\n",
    "all_metrics = calculate_ac2(all_metrics)"
   ]
  },
  {
   "cell_type": "markdown",
   "metadata": {},
   "source": [
    "### Linear Regression"
   ]
  },
  {
   "cell_type": "code",
   "execution_count": null,
   "metadata": {},
   "outputs": [],
   "source": [
    "def plot_linear_regression(df):\n",
    "    sns.regplot(x=df[\"totalAC1\"], y=df[\"totalAC2\"], line_kws={\"color\":\"r\",\"alpha\":0.7,\"lw\":5})\n",
    "    plt.show()"
   ]
  },
  {
   "cell_type": "markdown",
   "metadata": {},
   "source": [
    "# Descriptive Statistic Analysis"
   ]
  },
  {
   "cell_type": "markdown",
   "metadata": {},
   "source": [
    "- Realizes the calculation of statistic data such as mean, median, mode, min, max, standard deviation and variance."
   ]
  },
  {
   "cell_type": "code",
   "execution_count": null,
   "metadata": {},
   "outputs": [],
   "source": [
    "def descriptive_statistics(df):\n",
    "    \n",
    "    metrics = df.describe()\n",
    "    variance = df.var()\n",
    "    variance_df = pd.DataFrame(variance, columns=[\"var\"])\n",
    "    variance_df = variance_df.T\n",
    "    return metrics.append(variance_df).T"
   ]
  },
  {
   "cell_type": "markdown",
   "metadata": {},
   "source": [
    "### Data visualization\n",
    "\n",
    "- You must do this for each of your repositories"
   ]
  },
  {
   "cell_type": "code",
   "execution_count": null,
   "metadata": {},
   "outputs": [],
   "source": [
    "def plot_history(df, repository):\n",
    "    fig = plt.figure(figsize=(20, 10))\n",
    "    plt.title(f\"{repository}:COMPLEXITY\")\n",
    "    plt.plot(df['m1'], linewidth=3, marker='o', markersize=10)\n",
    "    fig = plt.figure(figsize=(20, 10))\n",
    "    plt.title(f\"{repository}:COMMENTS\")\n",
    "    plt.plot(df['m2'], linewidth=3, marker='o', markersize=10)\n",
    "    fig = plt.figure(figsize=(20, 10))\n",
    "    plt.title(f\"{repository}:DUPLICATIONS\")\n",
    "    plt.plot(df['m3'], linewidth=3, marker='o', markersize=10)"
   ]
  },
  {
   "cell_type": "markdown",
   "metadata": {},
   "source": [
    "# Histogram Repositories Analysis"
   ]
  },
  {
   "cell_type": "code",
   "execution_count": null,
   "metadata": {},
   "outputs": [],
   "source": [
    "def generate_histogram(repository, df):\n",
    "    fig = plt.figure(figsize=(30, 10))\n",
    "    plt.title(f\"{repository}:COMPLEXITY\")\n",
    "    plt.bar(df.index.values.tolist(), df['m1'], color='g')\n",
    "    plt.show()\n",
    "    plt.title(f\"{repository}:COMMENTS\")\n",
    "    plt.bar(df.index.values.tolist(), df['m2'], color='b')\n",
    "    plt.show()\n",
    "    plt.title(f\"{repository}:DUPLICATIONS\")\n",
    "    plt.bar(df.index.values.tolist(), df['m3'], color='red')\n",
    "    plt.show()\n",
    "    plt.title(f\"{repository}:MAINTAINABILITY\")\n",
    "    plt.bar(df.index.values.tolist(), df['asc1'], color='purple')\n",
    "    plt.show()\n",
    "    plt.title(f\"{repository}:PRODUCTIVITY\")\n",
    "    plt.bar(df.index.values.tolist(), df['asc2'], color='orange')\n",
    "    plt.show()"
   ]
  },
  {
   "cell_type": "markdown",
   "metadata": {},
   "source": [
    "# Box-plot"
   ]
  },
  {
   "cell_type": "code",
   "execution_count": null,
   "metadata": {},
   "outputs": [],
   "source": [
    "def generate_boxplot(df, repository):\n",
    "    fig = plt.figure(figsize=(10, 10))\n",
    "    plt.title(f\"{repository}:COMPLEXITY\")\n",
    "    plt.boxplot(df['m1'])\n",
    "    plt.show()\n",
    "    plt.title(f\"{repository}:COMMENTS\")\n",
    "    plt.boxplot(df['m2'])\n",
    "    plt.show()\n",
    "    plt.title(f\"{repository}:DUPLICATION\")\n",
    "    plt.boxplot(df['m3'])\n",
    "    plt.show()\n",
    "    plt.title(f\"{repository}:MAINTAINABILITY\")\n",
    "    plt.boxplot(df['totalAC1'])\n",
    "    plt.show()"
   ]
  },
  {
   "cell_type": "markdown",
   "metadata": {},
   "source": [
    "# Correlation Matrix"
   ]
  },
  {
   "cell_type": "code",
   "execution_count": null,
   "metadata": {},
   "outputs": [],
   "source": [
    "def correlationMatrix(df):\n",
    "    corrMatrix = df.corr()\n",
    "    return corrMatrix"
   ]
  },
  {
   "cell_type": "markdown",
   "metadata": {},
   "source": [
    "# Matriz de correlação \n",
    "\n",
    "Ao fazermos uma análise de dado é importante criar uma matriz de correlação para que possamos associar os valores das váriaveis entre si. Dessa forma, uma matriz de correlação é o retorno de uma tabela com coeficientes que mostram a correlação de cada variavel.\n",
    "\n",
    "## Como interpretar o resultado\n",
    "\n",
    "O coeficiente da correlação vária de 1 e -1, sendo assim, respectivamente, positiva, negativa ou nula, tal que:\n",
    "\n",
    "* Correlação positiva: Ambas as variáveis mudam na mesma direção. Assim, ambas váriaveis correlacionadas se movem na mesma direção, logo se uma tem seu valor aumentado, a outra também.\n",
    "\n",
    "* Correlação Nula: Nenhuma relação na mudança das variáveis. Isso ocorre apenas se o coeficiente da correlação for 0.\n",
    "\n",
    "* Correlação negativa: As variáveis mudam em direções opostas. Dessa forma, se uma váriavel tem seu valor aumentado, a outra diminui seu valor. \n"
   ]
  },
  {
   "cell_type": "markdown",
   "metadata": {},
   "source": [
    "# DataFrame M1, M2, M3, M7, M9, NCLOC, AC1, ASC1, ASC2, TOTALAC1, TOTALAC2\n"
   ]
  },
  {
   "cell_type": "code",
   "execution_count": null,
   "metadata": {},
   "outputs": [],
   "source": [
    "def descriptive_percentage(df):\n",
    "    df_copy = df.copy()\n",
    "    df_copy['m1'] = df_copy['m1'] * 100\n",
    "    df_copy['m2'] = df_copy['m2'] * 100\n",
    "    df_copy['m3'] = df_copy['m3'] * 100\n",
    "    df_copy['asc1'] = df_copy['asc1'] * 100\n",
    "    df_copy['ac1'] = df_copy['ac1'] * 100\n",
    "    df_copy['totalAC1'] = df_copy['totalAC1'] * 100\n",
    "    descriptive_percentage_product = df_copy.to_html(formatters={\n",
    "    'm1': '{:.4}%'.format,\n",
    "    'm2': '{:.4}%'.format,\n",
    "    'm3': '{:.4}%'.format,\n",
    "    'asc1': '{:.4}%'.format,\n",
    "    'ac1': '{:.4}%'.format,\n",
    "    'totalAC1': '{:.4}%'.format,\n",
    "    'asc2': '{:.4}%'.format,\n",
    "    'totalAC2': '{:.4}%'.format,\n",
    "    'm7': '{:.4}%'.format,\n",
    "    'm9': '{:.4}%'.format,\n",
    "    })\n",
    "    display(HTML(descriptive_percentage_product))"
   ]
  },
  {
   "cell_type": "code",
   "execution_count": null,
   "metadata": {},
   "outputs": [],
   "source": [
    "descriptive_percentage(eccoar_complaint_metrics)"
   ]
  },
  {
   "cell_type": "code",
   "execution_count": null,
   "metadata": {},
   "outputs": [],
   "source": [
    "metrics_df.to_excel('data/metrics_df.xlsx', index = False)"
   ]
  },
  {
   "cell_type": "markdown",
   "metadata": {},
   "source": [
    "# Análises dos Repositórios"
   ]
  },
  {
   "cell_type": "markdown",
   "metadata": {},
   "source": [
    "## Front-end"
   ]
  },
  {
   "cell_type": "code",
   "execution_count": null,
   "metadata": {},
   "outputs": [],
   "source": [
    "generic_df = eccoar_frontend_metrics.copy()\n",
    "repository = \"FRONTEND\""
   ]
  },
  {
   "cell_type": "markdown",
   "metadata": {},
   "source": [
    "### Gráfico histórico"
   ]
  },
  {
   "cell_type": "code",
   "execution_count": null,
   "metadata": {},
   "outputs": [],
   "source": [
    "plot_history(generic_df, repository)"
   ]
  },
  {
   "cell_type": "markdown",
   "metadata": {},
   "source": [
    "### Percentis"
   ]
  },
  {
   "cell_type": "code",
   "execution_count": null,
   "metadata": {},
   "outputs": [],
   "source": [
    "descriptive_percentage(generic_df)"
   ]
  },
  {
   "cell_type": "markdown",
   "metadata": {},
   "source": [
    "### Regressão Linear"
   ]
  },
  {
   "cell_type": "code",
   "execution_count": null,
   "metadata": {},
   "outputs": [],
   "source": [
    "plot_linear_regression(generic_df)"
   ]
  },
  {
   "cell_type": "markdown",
   "metadata": {},
   "source": [
    "### Histogramas"
   ]
  },
  {
   "cell_type": "code",
   "execution_count": null,
   "metadata": {},
   "outputs": [],
   "source": [
    "generate_histogram(repository, generic_df)"
   ]
  },
  {
   "cell_type": "markdown",
   "metadata": {},
   "source": [
    "### Análise Descritiva"
   ]
  },
  {
   "cell_type": "code",
   "execution_count": null,
   "metadata": {},
   "outputs": [],
   "source": [
    "descriptive_statistics(generic_df)"
   ]
  },
  {
   "cell_type": "markdown",
   "metadata": {},
   "source": [
    "### Matriz de Correlação"
   ]
  },
  {
   "cell_type": "code",
   "execution_count": null,
   "metadata": {},
   "outputs": [],
   "source": [
    "correlationMatrix(generic_df)"
   ]
  },
  {
   "cell_type": "markdown",
   "metadata": {},
   "source": [
    "### Box-plot"
   ]
  },
  {
   "cell_type": "code",
   "execution_count": null,
   "metadata": {},
   "outputs": [],
   "source": [
    "generate_boxplot(generic_df, repository)"
   ]
  },
  {
   "cell_type": "markdown",
   "metadata": {},
   "source": [
    "## Complaint"
   ]
  },
  {
   "cell_type": "code",
   "execution_count": null,
   "metadata": {},
   "outputs": [],
   "source": [
    "generic_df = eccoar_complaint_metrics.copy()\n",
    "repository = \"COMPLAINT\""
   ]
  },
  {
   "cell_type": "markdown",
   "metadata": {},
   "source": [
    "### Gráfico histórico"
   ]
  },
  {
   "cell_type": "code",
   "execution_count": null,
   "metadata": {},
   "outputs": [],
   "source": [
    "plot_history(generic_df, repository)"
   ]
  },
  {
   "cell_type": "markdown",
   "metadata": {},
   "source": [
    "### Percentis"
   ]
  },
  {
   "cell_type": "code",
   "execution_count": null,
   "metadata": {},
   "outputs": [],
   "source": [
    "descriptive_percentage(generic_df)"
   ]
  },
  {
   "cell_type": "markdown",
   "metadata": {},
   "source": [
    "### Regressão Linear"
   ]
  },
  {
   "cell_type": "code",
   "execution_count": null,
   "metadata": {},
   "outputs": [],
   "source": [
    "plot_linear_regression(generic_df)"
   ]
  },
  {
   "cell_type": "markdown",
   "metadata": {},
   "source": [
    "### Histogramas"
   ]
  },
  {
   "cell_type": "code",
   "execution_count": null,
   "metadata": {},
   "outputs": [],
   "source": [
    "generate_histogram(repository, generic_df)"
   ]
  },
  {
   "cell_type": "markdown",
   "metadata": {},
   "source": [
    "### Análise Descritiva"
   ]
  },
  {
   "cell_type": "code",
   "execution_count": null,
   "metadata": {},
   "outputs": [],
   "source": [
    "descriptive_statistics(generic_df)"
   ]
  },
  {
   "cell_type": "markdown",
   "metadata": {},
   "source": [
    "### Matriz de Correlação"
   ]
  },
  {
   "cell_type": "code",
   "execution_count": null,
   "metadata": {},
   "outputs": [],
   "source": [
    "correlationMatrix(generic_df)"
   ]
  },
  {
   "cell_type": "markdown",
   "metadata": {},
   "source": [
    "### Box-plot"
   ]
  },
  {
   "cell_type": "code",
   "execution_count": null,
   "metadata": {},
   "outputs": [],
   "source": [
    "generate_boxplot(generic_df, repository)"
   ]
  },
  {
   "cell_type": "markdown",
   "metadata": {},
   "source": [
    "## Gateway"
   ]
  },
  {
   "cell_type": "code",
   "execution_count": null,
   "metadata": {},
   "outputs": [],
   "source": [
    "generic_df = eccoar_gateway_metrics.copy()\n",
    "repository = \"GATEWAY\""
   ]
  },
  {
   "cell_type": "markdown",
   "metadata": {},
   "source": [
    "### Gráfico histórico"
   ]
  },
  {
   "cell_type": "code",
   "execution_count": null,
   "metadata": {},
   "outputs": [],
   "source": [
    "plot_history(generic_df, repository)"
   ]
  },
  {
   "cell_type": "markdown",
   "metadata": {},
   "source": [
    "### Percentis"
   ]
  },
  {
   "cell_type": "code",
   "execution_count": null,
   "metadata": {},
   "outputs": [],
   "source": [
    "descriptive_percentage(generic_df)"
   ]
  },
  {
   "cell_type": "markdown",
   "metadata": {},
   "source": [
    "### Regressão Linear"
   ]
  },
  {
   "cell_type": "code",
   "execution_count": null,
   "metadata": {},
   "outputs": [],
   "source": [
    "plot_linear_regression(generic_df)"
   ]
  },
  {
   "cell_type": "markdown",
   "metadata": {},
   "source": [
    "### Histogramas"
   ]
  },
  {
   "cell_type": "code",
   "execution_count": null,
   "metadata": {},
   "outputs": [],
   "source": [
    "generate_histogram(repository, generic_df)"
   ]
  },
  {
   "cell_type": "markdown",
   "metadata": {},
   "source": [
    "### Análise Descritiva"
   ]
  },
  {
   "cell_type": "code",
   "execution_count": null,
   "metadata": {},
   "outputs": [],
   "source": [
    "descriptive_statistics(generic_df)"
   ]
  },
  {
   "cell_type": "markdown",
   "metadata": {},
   "source": [
    "### Matriz de Correlação"
   ]
  },
  {
   "cell_type": "code",
   "execution_count": null,
   "metadata": {},
   "outputs": [],
   "source": [
    "correlationMatrix(generic_df)"
   ]
  },
  {
   "cell_type": "markdown",
   "metadata": {},
   "source": [
    "### Box-plot"
   ]
  },
  {
   "cell_type": "code",
   "execution_count": null,
   "metadata": {},
   "outputs": [],
   "source": [
    "generate_boxplot(generic_df, repository)"
   ]
  },
  {
   "cell_type": "markdown",
   "metadata": {},
   "source": [
    "## Users"
   ]
  },
  {
   "cell_type": "code",
   "execution_count": null,
   "metadata": {},
   "outputs": [],
   "source": [
    "generic_df = eccoar_users_metrics.copy()\n",
    "repository = \"USERS\""
   ]
  },
  {
   "cell_type": "markdown",
   "metadata": {},
   "source": [
    "### Gráfico histórico"
   ]
  },
  {
   "cell_type": "code",
   "execution_count": null,
   "metadata": {},
   "outputs": [],
   "source": [
    "plot_history(generic_df, repository)"
   ]
  },
  {
   "cell_type": "markdown",
   "metadata": {},
   "source": [
    "### Percentis"
   ]
  },
  {
   "cell_type": "code",
   "execution_count": null,
   "metadata": {},
   "outputs": [],
   "source": [
    "descriptive_percentage(generic_df)"
   ]
  },
  {
   "cell_type": "markdown",
   "metadata": {},
   "source": [
    "### Regressão Linear"
   ]
  },
  {
   "cell_type": "code",
   "execution_count": null,
   "metadata": {},
   "outputs": [],
   "source": [
    "plot_linear_regression(generic_df)"
   ]
  },
  {
   "cell_type": "markdown",
   "metadata": {},
   "source": [
    "### Histogramas"
   ]
  },
  {
   "cell_type": "code",
   "execution_count": null,
   "metadata": {},
   "outputs": [],
   "source": [
    "generate_histogram(repository, generic_df)"
   ]
  },
  {
   "cell_type": "markdown",
   "metadata": {},
   "source": [
    "### Análise Descritiva"
   ]
  },
  {
   "cell_type": "code",
   "execution_count": null,
   "metadata": {},
   "outputs": [],
   "source": [
    "descriptive_statistics(generic_df)"
   ]
  },
  {
   "cell_type": "markdown",
   "metadata": {},
   "source": [
    "### Matriz de Correlação"
   ]
  },
  {
   "cell_type": "code",
   "execution_count": null,
   "metadata": {},
   "outputs": [],
   "source": [
    "correlationMatrix(generic_df)"
   ]
  },
  {
   "cell_type": "markdown",
   "metadata": {},
   "source": [
    "### Box-plot"
   ]
  },
  {
   "cell_type": "code",
   "execution_count": null,
   "metadata": {},
   "outputs": [],
   "source": [
    "generate_boxplot(generic_df, repository)"
   ]
  },
  {
   "cell_type": "markdown",
   "metadata": {},
   "source": [
    "## Mailer"
   ]
  },
  {
   "cell_type": "code",
   "execution_count": null,
   "metadata": {},
   "outputs": [],
   "source": [
    "generic_df = eccoar_mailer_metrics.copy()\n",
    "repository = \"MAILER\""
   ]
  },
  {
   "cell_type": "markdown",
   "metadata": {},
   "source": [
    "### Gráfico histórico"
   ]
  },
  {
   "cell_type": "code",
   "execution_count": null,
   "metadata": {},
   "outputs": [],
   "source": [
    "plot_history(generic_df, repository)"
   ]
  },
  {
   "cell_type": "markdown",
   "metadata": {},
   "source": [
    "### Percentis"
   ]
  },
  {
   "cell_type": "code",
   "execution_count": null,
   "metadata": {},
   "outputs": [],
   "source": [
    "descriptive_percentage(generic_df)"
   ]
  },
  {
   "cell_type": "markdown",
   "metadata": {},
   "source": [
    "### Regressão Linear"
   ]
  },
  {
   "cell_type": "code",
   "execution_count": null,
   "metadata": {},
   "outputs": [],
   "source": [
    "plot_linear_regression(generic_df)"
   ]
  },
  {
   "cell_type": "markdown",
   "metadata": {},
   "source": [
    "### Histogramas"
   ]
  },
  {
   "cell_type": "code",
   "execution_count": null,
   "metadata": {},
   "outputs": [],
   "source": [
    "generate_histogram(repository, generic_df)"
   ]
  },
  {
   "cell_type": "markdown",
   "metadata": {},
   "source": [
    "### Análise Descritiva"
   ]
  },
  {
   "cell_type": "code",
   "execution_count": null,
   "metadata": {},
   "outputs": [],
   "source": [
    "descriptive_statistics(generic_df)"
   ]
  },
  {
   "cell_type": "markdown",
   "metadata": {},
   "source": [
    "### Matriz de Correlação"
   ]
  },
  {
   "cell_type": "code",
   "execution_count": null,
   "metadata": {},
   "outputs": [],
   "source": [
    "correlationMatrix(generic_df)"
   ]
  },
  {
   "cell_type": "markdown",
   "metadata": {},
   "source": [
    "### Box-plot"
   ]
  },
  {
   "cell_type": "code",
   "execution_count": null,
   "metadata": {},
   "outputs": [],
   "source": [
    "generate_boxplot(generic_df, repository)"
   ]
  },
  {
   "cell_type": "markdown",
   "metadata": {},
   "source": [
    "## Reports"
   ]
  },
  {
   "cell_type": "code",
   "execution_count": null,
   "metadata": {},
   "outputs": [],
   "source": [
    "generic_df = eccoar_reports_metrics.copy()\n",
    "repository = \"REPORTS\""
   ]
  },
  {
   "cell_type": "markdown",
   "metadata": {},
   "source": [
    "### Gráfico histórico"
   ]
  },
  {
   "cell_type": "code",
   "execution_count": null,
   "metadata": {},
   "outputs": [],
   "source": [
    "plot_history(generic_df, repository)"
   ]
  },
  {
   "cell_type": "markdown",
   "metadata": {},
   "source": [
    "### Percentis"
   ]
  },
  {
   "cell_type": "code",
   "execution_count": null,
   "metadata": {},
   "outputs": [],
   "source": [
    "descriptive_percentage(generic_df)"
   ]
  },
  {
   "cell_type": "markdown",
   "metadata": {},
   "source": [
    "### Regressão Linear"
   ]
  },
  {
   "cell_type": "code",
   "execution_count": null,
   "metadata": {},
   "outputs": [],
   "source": [
    "plot_linear_regression(generic_df)"
   ]
  },
  {
   "cell_type": "markdown",
   "metadata": {},
   "source": [
    "### Histogramas"
   ]
  },
  {
   "cell_type": "code",
   "execution_count": null,
   "metadata": {},
   "outputs": [],
   "source": [
    "generate_histogram(repository, generic_df)"
   ]
  },
  {
   "cell_type": "markdown",
   "metadata": {},
   "source": [
    "### Análise Descritiva"
   ]
  },
  {
   "cell_type": "code",
   "execution_count": null,
   "metadata": {},
   "outputs": [],
   "source": [
    "descriptive_statistics(generic_df)"
   ]
  },
  {
   "cell_type": "markdown",
   "metadata": {},
   "source": [
    "### Matriz de Correlação"
   ]
  },
  {
   "cell_type": "code",
   "execution_count": null,
   "metadata": {},
   "outputs": [],
   "source": [
    "correlationMatrix(generic_df)"
   ]
  },
  {
   "cell_type": "markdown",
   "metadata": {},
   "source": [
    "### Box-plot"
   ]
  },
  {
   "cell_type": "code",
   "execution_count": null,
   "metadata": {},
   "outputs": [],
   "source": [
    "generate_boxplot(generic_df, repository)"
   ]
  },
  {
   "cell_type": "markdown",
   "metadata": {},
   "source": [
    "## All metrics"
   ]
  },
  {
   "cell_type": "code",
   "execution_count": null,
   "metadata": {},
   "outputs": [],
   "source": [
    "generic_df = all_metrics.copy()\n",
    "repository = \"ALL METRICS\""
   ]
  },
  {
   "cell_type": "markdown",
   "metadata": {},
   "source": [
    "### Gráfico histórico"
   ]
  },
  {
   "cell_type": "code",
   "execution_count": null,
   "metadata": {},
   "outputs": [],
   "source": [
    "plot_history(generic_df, repository)"
   ]
  },
  {
   "cell_type": "markdown",
   "metadata": {},
   "source": [
    "### Percentis"
   ]
  },
  {
   "cell_type": "code",
   "execution_count": null,
   "metadata": {},
   "outputs": [],
   "source": [
    "descriptive_percentage(generic_df)"
   ]
  },
  {
   "cell_type": "markdown",
   "metadata": {},
   "source": [
    "### Regressão Linear"
   ]
  },
  {
   "cell_type": "code",
   "execution_count": null,
   "metadata": {},
   "outputs": [],
   "source": [
    "plot_linear_regression(generic_df)"
   ]
  },
  {
   "cell_type": "markdown",
   "metadata": {},
   "source": [
    "### Histogramas"
   ]
  },
  {
   "cell_type": "code",
   "execution_count": null,
   "metadata": {},
   "outputs": [],
   "source": [
    "generate_histogram(repository, generic_df)"
   ]
  },
  {
   "cell_type": "markdown",
   "metadata": {},
   "source": [
    "### Análise Descritiva"
   ]
  },
  {
   "cell_type": "code",
   "execution_count": null,
   "metadata": {},
   "outputs": [],
   "source": [
    "descriptive_statistics(generic_df)"
   ]
  },
  {
   "cell_type": "markdown",
   "metadata": {},
   "source": [
    "### Matriz de Correlação"
   ]
  },
  {
   "cell_type": "code",
   "execution_count": null,
   "metadata": {},
   "outputs": [],
   "source": [
    "correlationMatrix(generic_df)"
   ]
  },
  {
   "cell_type": "markdown",
   "metadata": {},
   "source": [
    "### Box-plot"
   ]
  },
  {
   "cell_type": "code",
   "execution_count": null,
   "metadata": {},
   "outputs": [],
   "source": [
    "generate_boxplot(generic_df, repository)"
   ]
  }
 ],
 "metadata": {
  "kernelspec": {
   "display_name": "Python 3",
   "language": "python",
   "name": "python3"
  },
  "language_info": {
   "codemirror_mode": {
    "name": "ipython",
    "version": 3
   },
   "file_extension": ".py",
   "mimetype": "text/x-python",
   "name": "python",
   "nbconvert_exporter": "python",
   "pygments_lexer": "ipython3",
   "version": "3.8.8"
  }
 },
 "nbformat": 4,
 "nbformat_minor": 4
}
