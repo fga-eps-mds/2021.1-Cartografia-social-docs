{
 "cells": [
  {
   "cell_type": "markdown",
   "metadata": {},
   "source": [
    "# Analytics"
   ]
  },
  {
   "cell_type": "markdown",
   "metadata": {},
   "source": [
    "#### Date: 2020/02\n",
    "\n",
    "#### SUMMARY:\n",
    "\n",
    "- This notebook represents the project quality analysis of the date exposed right above. "
   ]
  },
  {
   "cell_type": "markdown",
   "metadata": {},
   "source": [
    "### TEAM:\n",
    "\n",
    "##### Semester: YYYY/0X\n",
    "##### Professor: Hilmer Neri\n",
    "\n",
    "##### Members:\n",
    "\n",
    "- Member x\n",
    "- Member y"
   ]
  },
  {
   "cell_type": "markdown",
   "metadata": {},
   "source": [
    "### LIBRARIES"
   ]
  },
  {
   "cell_type": "code",
   "execution_count": 2,
   "metadata": {},
   "outputs": [],
   "source": [
    "# Deal with data\n",
    "import pandas as pd\n",
    "import numpy as np\n",
    "import json\n",
    "from glob import glob\n",
    "import os\n",
    "\n",
    "# Deal with API request\n",
    "import urllib3\n",
    "from urllib3 import request\n",
    "\n",
    "# Deal with visualization\n",
    "import seaborn as sns\n",
    "import matplotlib.pyplot as plt"
   ]
  },
  {
   "cell_type": "markdown",
   "metadata": {},
   "source": [
    "### GRAPH SETTINGS"
   ]
  },
  {
   "cell_type": "code",
   "execution_count": 3,
   "metadata": {},
   "outputs": [],
   "source": [
    "%config InlineBackend.figure_format ='retina'\n",
    "sns.set(font_scale=1.5)\n",
    "sns.set_style('darkgrid',\n",
    "              {'xtick.bottom' : True,\n",
    "               'ytick.left': True,\n",
    "               'grid.linestyle':'--',\n",
    "               'font.monospace': ['Computer Modern Typewriter'],\n",
    "               'axes.edgecolor' : 'white'})"
   ]
  },
  {
   "cell_type": "markdown",
   "metadata": {},
   "source": [
    "### DATAFRAME SETTINGS"
   ]
  },
  {
   "cell_type": "code",
   "execution_count": 4,
   "metadata": {},
   "outputs": [],
   "source": [
    "pd.set_option(\"display.max_rows\", None, \"display.max_columns\", None)"
   ]
  },
  {
   "cell_type": "markdown",
   "metadata": {},
   "source": [
    "### SonarCloud"
   ]
  },
  {
   "cell_type": "code",
   "execution_count": 5,
   "metadata": {},
   "outputs": [],
   "source": [
    "repos = [\n",
    "    '2021.1-Cartografia-social-api-comunidades',\n",
    "    '2021.1-Cartografia-social-api-gateway',\n",
    "    '2021.1-Cartografia-social-api-mapas',\n",
    "    '2021.1-Cartografia-social-api-midia',\n",
    "    '2021.1-Cartografia-social-api-users',\n",
    "    '2021.1-Cartografia-social-front'\n",
    "]\n",
    "\n",
    "language = [['2021.1-Cartografia-social-api-comunidades', 'ts'], \n",
    "            ['2021.1-Cartografia-social-api-gateway', 'ts'], \n",
    "            ['2021.1-Cartografia-social-api-mapas', 'ts'], \n",
    "            ['2021.1-Cartografia-social-api-midia', 'ts'], \n",
    "            ['2021.1-Cartografia-social-api-users', 'ts'], \n",
    "            ['2021.1-Cartografia-social-front', 'js']]\n",
    "\n",
    "repos_language = {}\n",
    "\n",
    "for item in language:\n",
    "    repos_language[f\"{item[0]}\"] = item[1]"
   ]
  },
  {
   "cell_type": "code",
   "execution_count": 6,
   "metadata": {},
   "outputs": [
    {
     "data": {
      "text/plain": [
       "{'2021.1-Cartografia-social-api-comunidades': 'ts',\n",
       " '2021.1-Cartografia-social-api-gateway': 'ts',\n",
       " '2021.1-Cartografia-social-api-mapas': 'ts',\n",
       " '2021.1-Cartografia-social-api-midia': 'ts',\n",
       " '2021.1-Cartografia-social-api-users': 'ts',\n",
       " '2021.1-Cartografia-social-front': 'js'}"
      ]
     },
     "execution_count": 6,
     "metadata": {},
     "output_type": "execute_result"
    }
   ],
   "source": [
    "repos_language"
   ]
  },
  {
   "cell_type": "markdown",
   "metadata": {},
   "source": [
    "##### Path to the folder with all your jsons"
   ]
  },
  {
   "cell_type": "code",
   "execution_count": 7,
   "metadata": {},
   "outputs": [],
   "source": [
    "jsons = glob('**/*.json') # add the path here"
   ]
  },
  {
   "cell_type": "code",
   "execution_count": 8,
   "metadata": {},
   "outputs": [],
   "source": [
    "def read_json(json_path):\n",
    "    \n",
    "    with open(json_path) as json_file:\n",
    "        json_obj = json.load(json_file)\n",
    "        \n",
    "    return json_obj\n",
    "\n",
    "def create_base_component_df(json_list):\n",
    "    \n",
    "    df = pd.DataFrame()\n",
    "\n",
    "    for i in json_list:\n",
    "\n",
    "        base_component = read_json(i)\n",
    "\n",
    "        base_component_data = base_component['baseComponent']['measures']\n",
    "\n",
    "        base_component_df = pd.DataFrame(base_component_data)\n",
    "\n",
    "        base_component_df['filename'] = os.path.basename(i)\n",
    "\n",
    "        df = df.append(base_component_df, ignore_index=True)\n",
    "        \n",
    "    aux_df = df['filename'].str.split(r\"fga-eps-mds-2021_1-(.*?)-(.*?)_(.*?).json\", expand=True)\n",
    "    \n",
    "    df['repository'] = aux_df[1]\n",
    "    \n",
    "    df['version'] = aux_df[2]\n",
    "    \n",
    "    df = df.sort_values(by=['repository', 'version'])\n",
    "        \n",
    "    return df"
   ]
  },
  {
   "cell_type": "markdown",
   "metadata": {},
   "source": [
    "#### Create base component dataframe"
   ]
  },
  {
   "cell_type": "code",
   "execution_count": 9,
   "metadata": {},
   "outputs": [],
   "source": [
    "base_component_df = create_base_component_df(jsons)"
   ]
  },
  {
   "cell_type": "code",
   "execution_count": 10,
   "metadata": {},
   "outputs": [
    {
     "data": {
      "text/html": [
       "<div>\n",
       "<style scoped>\n",
       "    .dataframe tbody tr th:only-of-type {\n",
       "        vertical-align: middle;\n",
       "    }\n",
       "\n",
       "    .dataframe tbody tr th {\n",
       "        vertical-align: top;\n",
       "    }\n",
       "\n",
       "    .dataframe thead th {\n",
       "        text-align: right;\n",
       "    }\n",
       "</style>\n",
       "<table border=\"1\" class=\"dataframe\">\n",
       "  <thead>\n",
       "    <tr style=\"text-align: right;\">\n",
       "      <th></th>\n",
       "      <th>metric</th>\n",
       "      <th>value</th>\n",
       "      <th>bestValue</th>\n",
       "      <th>filename</th>\n",
       "      <th>repository</th>\n",
       "      <th>version</th>\n",
       "    </tr>\n",
       "  </thead>\n",
       "  <tbody>\n",
       "    <tr>\n",
       "      <th>42</th>\n",
       "      <td>duplicated_lines_density</td>\n",
       "      <td>0.0</td>\n",
       "      <td>True</td>\n",
       "      <td>fga-eps-mds-2021_1-Cartografia-social-api-comu...</td>\n",
       "      <td>Cartografia</td>\n",
       "      <td>social-api-comunidades-10-15-2021</td>\n",
       "    </tr>\n",
       "    <tr>\n",
       "      <th>43</th>\n",
       "      <td>functions</td>\n",
       "      <td>31</td>\n",
       "      <td>NaN</td>\n",
       "      <td>fga-eps-mds-2021_1-Cartografia-social-api-comu...</td>\n",
       "      <td>Cartografia</td>\n",
       "      <td>social-api-comunidades-10-15-2021</td>\n",
       "    </tr>\n",
       "    <tr>\n",
       "      <th>44</th>\n",
       "      <td>security_rating</td>\n",
       "      <td>1.0</td>\n",
       "      <td>True</td>\n",
       "      <td>fga-eps-mds-2021_1-Cartografia-social-api-comu...</td>\n",
       "      <td>Cartografia</td>\n",
       "      <td>social-api-comunidades-10-15-2021</td>\n",
       "    </tr>\n",
       "    <tr>\n",
       "      <th>45</th>\n",
       "      <td>files</td>\n",
       "      <td>12</td>\n",
       "      <td>NaN</td>\n",
       "      <td>fga-eps-mds-2021_1-Cartografia-social-api-comu...</td>\n",
       "      <td>Cartografia</td>\n",
       "      <td>social-api-comunidades-10-15-2021</td>\n",
       "    </tr>\n",
       "    <tr>\n",
       "      <th>46</th>\n",
       "      <td>complexity</td>\n",
       "      <td>36</td>\n",
       "      <td>NaN</td>\n",
       "      <td>fga-eps-mds-2021_1-Cartografia-social-api-comu...</td>\n",
       "      <td>Cartografia</td>\n",
       "      <td>social-api-comunidades-10-15-2021</td>\n",
       "    </tr>\n",
       "    <tr>\n",
       "      <th>47</th>\n",
       "      <td>ncloc</td>\n",
       "      <td>284</td>\n",
       "      <td>NaN</td>\n",
       "      <td>fga-eps-mds-2021_1-Cartografia-social-api-comu...</td>\n",
       "      <td>Cartografia</td>\n",
       "      <td>social-api-comunidades-10-15-2021</td>\n",
       "    </tr>\n",
       "    <tr>\n",
       "      <th>48</th>\n",
       "      <td>coverage</td>\n",
       "      <td>85.9</td>\n",
       "      <td>False</td>\n",
       "      <td>fga-eps-mds-2021_1-Cartografia-social-api-comu...</td>\n",
       "      <td>Cartografia</td>\n",
       "      <td>social-api-comunidades-10-15-2021</td>\n",
       "    </tr>\n",
       "    <tr>\n",
       "      <th>49</th>\n",
       "      <td>reliability_rating</td>\n",
       "      <td>1.0</td>\n",
       "      <td>True</td>\n",
       "      <td>fga-eps-mds-2021_1-Cartografia-social-api-comu...</td>\n",
       "      <td>Cartografia</td>\n",
       "      <td>social-api-comunidades-10-15-2021</td>\n",
       "    </tr>\n",
       "    <tr>\n",
       "      <th>50</th>\n",
       "      <td>comment_lines_density</td>\n",
       "      <td>0.7</td>\n",
       "      <td>False</td>\n",
       "      <td>fga-eps-mds-2021_1-Cartografia-social-api-comu...</td>\n",
       "      <td>Cartografia</td>\n",
       "      <td>social-api-comunidades-10-15-2021</td>\n",
       "    </tr>\n",
       "    <tr>\n",
       "      <th>51</th>\n",
       "      <td>duplicated_lines_density</td>\n",
       "      <td>0.0</td>\n",
       "      <td>True</td>\n",
       "      <td>fga-eps-mds-2021_1-Cartografia-social-api-comu...</td>\n",
       "      <td>Cartografia</td>\n",
       "      <td>social-api-comunidades-10-15-2021</td>\n",
       "    </tr>\n",
       "  </tbody>\n",
       "</table>\n",
       "</div>"
      ],
      "text/plain": [
       "                      metric value bestValue  \\\n",
       "42  duplicated_lines_density   0.0      True   \n",
       "43                 functions    31       NaN   \n",
       "44           security_rating   1.0      True   \n",
       "45                     files    12       NaN   \n",
       "46                complexity    36       NaN   \n",
       "47                     ncloc   284       NaN   \n",
       "48                  coverage  85.9     False   \n",
       "49        reliability_rating   1.0      True   \n",
       "50     comment_lines_density   0.7     False   \n",
       "51  duplicated_lines_density   0.0      True   \n",
       "\n",
       "                                             filename   repository  \\\n",
       "42  fga-eps-mds-2021_1-Cartografia-social-api-comu...  Cartografia   \n",
       "43  fga-eps-mds-2021_1-Cartografia-social-api-comu...  Cartografia   \n",
       "44  fga-eps-mds-2021_1-Cartografia-social-api-comu...  Cartografia   \n",
       "45  fga-eps-mds-2021_1-Cartografia-social-api-comu...  Cartografia   \n",
       "46  fga-eps-mds-2021_1-Cartografia-social-api-comu...  Cartografia   \n",
       "47  fga-eps-mds-2021_1-Cartografia-social-api-comu...  Cartografia   \n",
       "48  fga-eps-mds-2021_1-Cartografia-social-api-comu...  Cartografia   \n",
       "49  fga-eps-mds-2021_1-Cartografia-social-api-comu...  Cartografia   \n",
       "50  fga-eps-mds-2021_1-Cartografia-social-api-comu...  Cartografia   \n",
       "51  fga-eps-mds-2021_1-Cartografia-social-api-comu...  Cartografia   \n",
       "\n",
       "                              version  \n",
       "42  social-api-comunidades-10-15-2021  \n",
       "43  social-api-comunidades-10-15-2021  \n",
       "44  social-api-comunidades-10-15-2021  \n",
       "45  social-api-comunidades-10-15-2021  \n",
       "46  social-api-comunidades-10-15-2021  \n",
       "47  social-api-comunidades-10-15-2021  \n",
       "48  social-api-comunidades-10-15-2021  \n",
       "49  social-api-comunidades-10-15-2021  \n",
       "50  social-api-comunidades-10-15-2021  \n",
       "51  social-api-comunidades-10-15-2021  "
      ]
     },
     "execution_count": 10,
     "metadata": {},
     "output_type": "execute_result"
    }
   ],
   "source": [
    "base_component_df.head(10)"
   ]
  },
  {
   "cell_type": "markdown",
   "metadata": {},
   "source": [
    "#### Create dataframe per file"
   ]
  },
  {
   "cell_type": "code",
   "execution_count": 11,
   "metadata": {},
   "outputs": [
    {
     "data": {
      "text/plain": [
       "12"
      ]
     },
     "execution_count": 11,
     "metadata": {},
     "output_type": "execute_result"
    }
   ],
   "source": [
    "metric_list = ['files',\n",
    "               'functions',\n",
    "               'complexity',\n",
    "               'comment_lines_density',\n",
    "               'duplicated_lines_density',\n",
    "               'coverage',\n",
    "               'ncloc',\n",
    "               'security_rating',\n",
    "               'tests',\n",
    "               'test_success_density',\n",
    "               'test_execution_time',\n",
    "               'reliability_rating']\n",
    "\n",
    "len(metric_list)"
   ]
  },
  {
   "cell_type": "code",
   "execution_count": 12,
   "metadata": {},
   "outputs": [],
   "source": [
    "def metric_per_file(json):\n",
    "    \n",
    "    file_json = []\n",
    "    \n",
    "    for component in json['components']:\n",
    "        if component['qualifier'] == 'FIL':\n",
    "            file_json.append(component)\n",
    "            \n",
    "    return file_json\n",
    "\n",
    "def generate_file_dataframe_per_release(metric_list, json, language_extension):\n",
    "    \n",
    "    df_columns = metric_list\n",
    "    df = pd.DataFrame(columns = df_columns)\n",
    "    \n",
    "    for file in json:\n",
    "        try:\n",
    "            if file['language'] == language_extension:\n",
    "                for measure in file['measures']:\n",
    "                    df.at[file['path'], measure['metric']] = measure['value']\n",
    "        except:\n",
    "            pass\n",
    "        \n",
    "    df.reset_index(inplace = True)\n",
    "    df = df.rename({'index': 'path'}, axis=1).drop(['files'], axis=1)\n",
    "\n",
    "    return df\n",
    "\n",
    "def create_file_df(json_list):\n",
    "    \n",
    "    df = pd.DataFrame()\n",
    "\n",
    "    for i in json_list:\n",
    "\n",
    "        file_component = read_json(i)\n",
    "        \n",
    "        file_component_data = metric_per_file(file_component)\n",
    "\n",
    "        file_component_df = generate_file_dataframe_per_release(metric_list, file_component_data, language_extension = 'js')\n",
    "\n",
    "        file_component_df['filename'] = os.path.basename(i)\n",
    "\n",
    "        df = df.append(file_component_df, ignore_index=True)\n",
    "        \n",
    "    # replace TeamName by yours.    \n",
    "    aux_df = df['filename'].str.split(r\"fga-eps-mds-2021_1-(.*?)-(.*?)_(.*?).json\", expand=True)\n",
    "    \n",
    "    df['repository'] = aux_df[1]\n",
    "    \n",
    "    df['version'] = aux_df[2]\n",
    "    \n",
    "    df = df.sort_values(by=['repository', 'version'])\n",
    "        \n",
    "    return df"
   ]
  },
  {
   "cell_type": "code",
   "execution_count": 13,
   "metadata": {},
   "outputs": [],
   "source": [
    "file_component_df = create_file_df(jsons)"
   ]
  },
  {
   "cell_type": "code",
   "execution_count": 14,
   "metadata": {},
   "outputs": [
    {
     "data": {
      "text/html": [
       "<div>\n",
       "<style scoped>\n",
       "    .dataframe tbody tr th:only-of-type {\n",
       "        vertical-align: middle;\n",
       "    }\n",
       "\n",
       "    .dataframe tbody tr th {\n",
       "        vertical-align: top;\n",
       "    }\n",
       "\n",
       "    .dataframe thead th {\n",
       "        text-align: right;\n",
       "    }\n",
       "</style>\n",
       "<table border=\"1\" class=\"dataframe\">\n",
       "  <thead>\n",
       "    <tr style=\"text-align: right;\">\n",
       "      <th></th>\n",
       "      <th>path</th>\n",
       "      <th>functions</th>\n",
       "      <th>complexity</th>\n",
       "      <th>comment_lines_density</th>\n",
       "      <th>duplicated_lines_density</th>\n",
       "      <th>coverage</th>\n",
       "      <th>ncloc</th>\n",
       "      <th>security_rating</th>\n",
       "      <th>tests</th>\n",
       "      <th>test_success_density</th>\n",
       "      <th>test_execution_time</th>\n",
       "      <th>reliability_rating</th>\n",
       "      <th>filename</th>\n",
       "      <th>repository</th>\n",
       "      <th>version</th>\n",
       "    </tr>\n",
       "  </thead>\n",
       "  <tbody>\n",
       "    <tr>\n",
       "      <th>297</th>\n",
       "      <td>src/store/actions/actionTypes.js</td>\n",
       "      <td>0</td>\n",
       "      <td>0</td>\n",
       "      <td>0.0</td>\n",
       "      <td>0.0</td>\n",
       "      <td>0.0</td>\n",
       "      <td>5</td>\n",
       "      <td>1.0</td>\n",
       "      <td>NaN</td>\n",
       "      <td>100.0</td>\n",
       "      <td>NaN</td>\n",
       "      <td>1.0</td>\n",
       "      <td>fga-eps-mds-2021_1-Cartografia-social-front-09...</td>\n",
       "      <td>Cartografia</td>\n",
       "      <td>social-front-09-14-2021-23-30</td>\n",
       "    </tr>\n",
       "    <tr>\n",
       "      <th>298</th>\n",
       "      <td>src/services/api.js</td>\n",
       "      <td>1</td>\n",
       "      <td>1</td>\n",
       "      <td>0.0</td>\n",
       "      <td>0.0</td>\n",
       "      <td>0.0</td>\n",
       "      <td>14</td>\n",
       "      <td>1.0</td>\n",
       "      <td>NaN</td>\n",
       "      <td>100.0</td>\n",
       "      <td>NaN</td>\n",
       "      <td>1.0</td>\n",
       "      <td>fga-eps-mds-2021_1-Cartografia-social-front-09...</td>\n",
       "      <td>Cartografia</td>\n",
       "      <td>social-front-09-14-2021-23-30</td>\n",
       "    </tr>\n",
       "    <tr>\n",
       "      <th>299</th>\n",
       "      <td>src/services/api2.js</td>\n",
       "      <td>1</td>\n",
       "      <td>1</td>\n",
       "      <td>0.0</td>\n",
       "      <td>0.0</td>\n",
       "      <td>0.0</td>\n",
       "      <td>14</td>\n",
       "      <td>1.0</td>\n",
       "      <td>NaN</td>\n",
       "      <td>100.0</td>\n",
       "      <td>NaN</td>\n",
       "      <td>1.0</td>\n",
       "      <td>fga-eps-mds-2021_1-Cartografia-social-front-09...</td>\n",
       "      <td>Cartografia</td>\n",
       "      <td>social-front-09-14-2021-23-30</td>\n",
       "    </tr>\n",
       "    <tr>\n",
       "      <th>300</th>\n",
       "      <td>src/app/App.js</td>\n",
       "      <td>1</td>\n",
       "      <td>1</td>\n",
       "      <td>0.0</td>\n",
       "      <td>0.0</td>\n",
       "      <td>0.0</td>\n",
       "      <td>8</td>\n",
       "      <td>1.0</td>\n",
       "      <td>NaN</td>\n",
       "      <td>100.0</td>\n",
       "      <td>NaN</td>\n",
       "      <td>1.0</td>\n",
       "      <td>fga-eps-mds-2021_1-Cartografia-social-front-09...</td>\n",
       "      <td>Cartografia</td>\n",
       "      <td>social-front-09-14-2021-23-30</td>\n",
       "    </tr>\n",
       "    <tr>\n",
       "      <th>301</th>\n",
       "      <td>src/store/actions/auth.js</td>\n",
       "      <td>2</td>\n",
       "      <td>2</td>\n",
       "      <td>0.0</td>\n",
       "      <td>0.0</td>\n",
       "      <td>0.0</td>\n",
       "      <td>12</td>\n",
       "      <td>1.0</td>\n",
       "      <td>NaN</td>\n",
       "      <td>100.0</td>\n",
       "      <td>NaN</td>\n",
       "      <td>1.0</td>\n",
       "      <td>fga-eps-mds-2021_1-Cartografia-social-front-09...</td>\n",
       "      <td>Cartografia</td>\n",
       "      <td>social-front-09-14-2021-23-30</td>\n",
       "    </tr>\n",
       "    <tr>\n",
       "      <th>302</th>\n",
       "      <td>src/store/reducers/auth.js</td>\n",
       "      <td>1</td>\n",
       "      <td>4</td>\n",
       "      <td>0.0</td>\n",
       "      <td>0.0</td>\n",
       "      <td>0.0</td>\n",
       "      <td>17</td>\n",
       "      <td>1.0</td>\n",
       "      <td>NaN</td>\n",
       "      <td>100.0</td>\n",
       "      <td>NaN</td>\n",
       "      <td>1.0</td>\n",
       "      <td>fga-eps-mds-2021_1-Cartografia-social-front-09...</td>\n",
       "      <td>Cartografia</td>\n",
       "      <td>social-front-09-14-2021-23-30</td>\n",
       "    </tr>\n",
       "    <tr>\n",
       "      <th>303</th>\n",
       "      <td>src/store/selectors/auth.js</td>\n",
       "      <td>1</td>\n",
       "      <td>1</td>\n",
       "      <td>0.0</td>\n",
       "      <td>0.0</td>\n",
       "      <td>NaN</td>\n",
       "      <td>1</td>\n",
       "      <td>1.0</td>\n",
       "      <td>NaN</td>\n",
       "      <td>100.0</td>\n",
       "      <td>NaN</td>\n",
       "      <td>1.0</td>\n",
       "      <td>fga-eps-mds-2021_1-Cartografia-social-front-09...</td>\n",
       "      <td>Cartografia</td>\n",
       "      <td>social-front-09-14-2021-23-30</td>\n",
       "    </tr>\n",
       "    <tr>\n",
       "      <th>304</th>\n",
       "      <td>src/components/Fabs/index.js</td>\n",
       "      <td>6</td>\n",
       "      <td>9</td>\n",
       "      <td>0.0</td>\n",
       "      <td>0.0</td>\n",
       "      <td>0.0</td>\n",
       "      <td>55</td>\n",
       "      <td>1.0</td>\n",
       "      <td>NaN</td>\n",
       "      <td>100.0</td>\n",
       "      <td>NaN</td>\n",
       "      <td>1.0</td>\n",
       "      <td>fga-eps-mds-2021_1-Cartografia-social-front-09...</td>\n",
       "      <td>Cartografia</td>\n",
       "      <td>social-front-09-14-2021-23-30</td>\n",
       "    </tr>\n",
       "    <tr>\n",
       "      <th>305</th>\n",
       "      <td>src/components/CreatePoint/index.js</td>\n",
       "      <td>16</td>\n",
       "      <td>23</td>\n",
       "      <td>0.0</td>\n",
       "      <td>0.0</td>\n",
       "      <td>0.0</td>\n",
       "      <td>157</td>\n",
       "      <td>1.0</td>\n",
       "      <td>NaN</td>\n",
       "      <td>100.0</td>\n",
       "      <td>NaN</td>\n",
       "      <td>1.0</td>\n",
       "      <td>fga-eps-mds-2021_1-Cartografia-social-front-09...</td>\n",
       "      <td>Cartografia</td>\n",
       "      <td>social-front-09-14-2021-23-30</td>\n",
       "    </tr>\n",
       "    <tr>\n",
       "      <th>306</th>\n",
       "      <td>src/components/MarkerDetails/index.js</td>\n",
       "      <td>3</td>\n",
       "      <td>6</td>\n",
       "      <td>14.5</td>\n",
       "      <td>0.0</td>\n",
       "      <td>0.0</td>\n",
       "      <td>53</td>\n",
       "      <td>1.0</td>\n",
       "      <td>NaN</td>\n",
       "      <td>100.0</td>\n",
       "      <td>NaN</td>\n",
       "      <td>1.0</td>\n",
       "      <td>fga-eps-mds-2021_1-Cartografia-social-front-09...</td>\n",
       "      <td>Cartografia</td>\n",
       "      <td>social-front-09-14-2021-23-30</td>\n",
       "    </tr>\n",
       "  </tbody>\n",
       "</table>\n",
       "</div>"
      ],
      "text/plain": [
       "                                      path functions complexity  \\\n",
       "297       src/store/actions/actionTypes.js         0          0   \n",
       "298                    src/services/api.js         1          1   \n",
       "299                   src/services/api2.js         1          1   \n",
       "300                         src/app/App.js         1          1   \n",
       "301              src/store/actions/auth.js         2          2   \n",
       "302             src/store/reducers/auth.js         1          4   \n",
       "303            src/store/selectors/auth.js         1          1   \n",
       "304           src/components/Fabs/index.js         6          9   \n",
       "305    src/components/CreatePoint/index.js        16         23   \n",
       "306  src/components/MarkerDetails/index.js         3          6   \n",
       "\n",
       "    comment_lines_density duplicated_lines_density coverage ncloc  \\\n",
       "297                   0.0                      0.0      0.0     5   \n",
       "298                   0.0                      0.0      0.0    14   \n",
       "299                   0.0                      0.0      0.0    14   \n",
       "300                   0.0                      0.0      0.0     8   \n",
       "301                   0.0                      0.0      0.0    12   \n",
       "302                   0.0                      0.0      0.0    17   \n",
       "303                   0.0                      0.0      NaN     1   \n",
       "304                   0.0                      0.0      0.0    55   \n",
       "305                   0.0                      0.0      0.0   157   \n",
       "306                  14.5                      0.0      0.0    53   \n",
       "\n",
       "    security_rating tests test_success_density test_execution_time  \\\n",
       "297             1.0   NaN                100.0                 NaN   \n",
       "298             1.0   NaN                100.0                 NaN   \n",
       "299             1.0   NaN                100.0                 NaN   \n",
       "300             1.0   NaN                100.0                 NaN   \n",
       "301             1.0   NaN                100.0                 NaN   \n",
       "302             1.0   NaN                100.0                 NaN   \n",
       "303             1.0   NaN                100.0                 NaN   \n",
       "304             1.0   NaN                100.0                 NaN   \n",
       "305             1.0   NaN                100.0                 NaN   \n",
       "306             1.0   NaN                100.0                 NaN   \n",
       "\n",
       "    reliability_rating                                           filename  \\\n",
       "297                1.0  fga-eps-mds-2021_1-Cartografia-social-front-09...   \n",
       "298                1.0  fga-eps-mds-2021_1-Cartografia-social-front-09...   \n",
       "299                1.0  fga-eps-mds-2021_1-Cartografia-social-front-09...   \n",
       "300                1.0  fga-eps-mds-2021_1-Cartografia-social-front-09...   \n",
       "301                1.0  fga-eps-mds-2021_1-Cartografia-social-front-09...   \n",
       "302                1.0  fga-eps-mds-2021_1-Cartografia-social-front-09...   \n",
       "303                1.0  fga-eps-mds-2021_1-Cartografia-social-front-09...   \n",
       "304                1.0  fga-eps-mds-2021_1-Cartografia-social-front-09...   \n",
       "305                1.0  fga-eps-mds-2021_1-Cartografia-social-front-09...   \n",
       "306                1.0  fga-eps-mds-2021_1-Cartografia-social-front-09...   \n",
       "\n",
       "      repository                        version  \n",
       "297  Cartografia  social-front-09-14-2021-23-30  \n",
       "298  Cartografia  social-front-09-14-2021-23-30  \n",
       "299  Cartografia  social-front-09-14-2021-23-30  \n",
       "300  Cartografia  social-front-09-14-2021-23-30  \n",
       "301  Cartografia  social-front-09-14-2021-23-30  \n",
       "302  Cartografia  social-front-09-14-2021-23-30  \n",
       "303  Cartografia  social-front-09-14-2021-23-30  \n",
       "304  Cartografia  social-front-09-14-2021-23-30  \n",
       "305  Cartografia  social-front-09-14-2021-23-30  \n",
       "306  Cartografia  social-front-09-14-2021-23-30  "
      ]
     },
     "execution_count": 14,
     "metadata": {},
     "output_type": "execute_result"
    }
   ],
   "source": [
    "file_component_df.head(10)"
   ]
  },
  {
   "cell_type": "markdown",
   "metadata": {},
   "source": [
    "#### Create dataframe per repository"
   ]
  },
  {
   "cell_type": "code",
   "execution_count": 15,
   "metadata": {},
   "outputs": [
    {
     "data": {
      "text/plain": [
       "dict_keys(['2021.1-Cartografia-social-api-comunidades', '2021.1-Cartografia-social-api-gateway', '2021.1-Cartografia-social-api-mapas', '2021.1-Cartografia-social-api-midia', '2021.1-Cartografia-social-api-users', '2021.1-Cartografia-social-front'])"
      ]
     },
     "execution_count": 15,
     "metadata": {},
     "output_type": "execute_result"
    }
   ],
   "source": [
    "repository_dataframes = {} \n",
    "\n",
    "for repository in repos:\n",
    "    df = file_component_df[file_component_df['repository'] == f\"{repository}\"]\n",
    "    df.name = f\"{repository}\"\n",
    "    repository_dataframes[f\"{repository}\"] = df\n",
    "    \n",
    "repository_dataframes.keys()"
   ]
  },
  {
   "cell_type": "code",
   "execution_count": null,
   "metadata": {},
   "outputs": [],
   "source": [
    "api_comunidades_df = file_component_df[file_component_df['repository'] == '2021.1-Cartografia-social-api-comunidades']\n",
    "api_gateway_df = file_component_df[file_component_df['repository'] == '2021.1-Cartografia-social-api-gateway']\n",
    "api_mapas_df = file_component_df[file_component_df['repository'] == '2021.1-Cartografia-social-api-mapas']\n",
    "api_midia_df = file_component_df[file_component_df['repository'] == '2021.1-Cartografia-social-api-midia']\n",
    "api_users_df = file_component_df[file_component_df['repository'] == '2021.1-Cartografia-social-api-users']\n",
    "front_df = file_component_df[file_component_df['repository'] == '2021.1-Cartografia-social-api-front']"
   ]
  },
  {
   "cell_type": "code",
   "execution_count": 16,
   "metadata": {
    "jupyter": {
     "outputs_hidden": false
    },
    "pycharm": {
     "name": "#%%\n"
    }
   },
   "outputs": [],
   "source": [
    "def _nloc(df):\n",
    "    ncloc = 0\n",
    "    for each in df['ncloc']:\n",
    "        ncloc += int(each)\n",
    "\n",
    "    return ncloc"
   ]
  },
  {
   "cell_type": "markdown",
   "metadata": {},
   "source": [
    "### Measure calculations according Q-Rapids quality model"
   ]
  },
  {
   "cell_type": "markdown",
   "metadata": {},
   "source": [
    "# Quality Aspect - Maintainability\n",
    "## Factor - Code Quality"
   ]
  },
  {
   "cell_type": "markdown",
   "metadata": {},
   "source": [
    "##### COMPLEXITY"
   ]
  },
  {
   "cell_type": "code",
   "execution_count": 17,
   "metadata": {},
   "outputs": [],
   "source": [
    "def m1(df):\n",
    "    \n",
    "    density_non_complex_files = len(df[(df['complexity'].astype(float)/df['functions'].astype(float)) < 10])/len(df)\n",
    "    \n",
    "    return density_non_complex_files"
   ]
  },
  {
   "cell_type": "markdown",
   "metadata": {},
   "source": [
    "##### COMMENTS"
   ]
  },
  {
   "cell_type": "code",
   "execution_count": 18,
   "metadata": {},
   "outputs": [],
   "source": [
    "def m2(df):\n",
    "    \n",
    "    density_comment_files = len(df[(df['comment_lines_density'].astype(float) > 10) & (df['comment_lines_density'].astype(float) < 30)])/len(df)\n",
    "    \n",
    "    return density_comment_files"
   ]
  },
  {
   "cell_type": "markdown",
   "metadata": {},
   "source": [
    "##### DUPLICATIONS"
   ]
  },
  {
   "cell_type": "code",
   "execution_count": 19,
   "metadata": {},
   "outputs": [],
   "source": [
    "def m3(df):\n",
    "    \n",
    "    duplication = len(df[(df['duplicated_lines_density'].astype(float) < 5)])/len(df)\n",
    "    \n",
    "    return duplication"
   ]
  },
  {
   "cell_type": "markdown",
   "metadata": {},
   "source": [
    "# Quality Aspect - Reliability\n",
    "## Factor - Testing Status"
   ]
  },
  {
   "cell_type": "markdown",
   "metadata": {},
   "source": [
    "##### Passed tests"
   ]
  },
  {
   "cell_type": "code",
   "execution_count": 20,
   "metadata": {
    "jupyter": {
     "outputs_hidden": false
    },
    "pycharm": {
     "name": "#%%\n"
    }
   },
   "outputs": [],
   "source": [
    "def m4(df):\n",
    "\n",
    "    passed_tests = df['test_success_density'].astype(float).median() / 100\n",
    "\n",
    "    return passed_tests"
   ]
  },
  {
   "cell_type": "markdown",
   "metadata": {},
   "source": [
    "##### Fast test builds"
   ]
  },
  {
   "cell_type": "code",
   "execution_count": 21,
   "metadata": {
    "jupyter": {
     "outputs_hidden": false
    },
    "pycharm": {
     "name": "#%%\n"
    }
   },
   "outputs": [],
   "source": [
    "def m5(df):\n",
    "\n",
    "    density_fast_test_builds = len(df[(df['test_execution_time'].astype(float)) < 300]) / sum(df['tests'].astype(float))\n",
    "\n",
    "    return density_fast_test_builds"
   ]
  },
  {
   "cell_type": "markdown",
   "metadata": {},
   "source": [
    "##### Test coverage"
   ]
  },
  {
   "cell_type": "code",
   "execution_count": 22,
   "metadata": {
    "jupyter": {
     "outputs_hidden": false
    },
    "pycharm": {
     "name": "#%%\n"
    }
   },
   "outputs": [],
   "source": [
    "def m6(df):\n",
    "\n",
    "    density_test_coverage = len(df[(df['coverage'].astype(float) > 60)]) / len(df)\n",
    "\n",
    "    return density_test_coverage"
   ]
  },
  {
   "cell_type": "markdown",
   "metadata": {},
   "source": [
    "### Calculate m1, m2, m3, m4, m5 and m6 for each repository"
   ]
  },
  {
   "cell_type": "code",
   "execution_count": 23,
   "metadata": {},
   "outputs": [],
   "source": [
    "def create_metrics_df(df):\n",
    "    \n",
    "    version_vec = df['version'].unique()\n",
    "    \n",
    "    m1_list = []\n",
    "    m2_list = []\n",
    "    m3_list = []\n",
    "    m4_list = []\n",
    "    m5_list = []\n",
    "    m6_list = []\n",
    "\n",
    "    ncloc_list = []\n",
    "    repository_list = []\n",
    "    version_list = []\n",
    "    \n",
    "    metrics_df = pd.DataFrame()\n",
    "    \n",
    "    for version in version_vec:\n",
    "\n",
    "        version_df = df[df['version'] == version]\n",
    "\n",
    "        m1_list.append(m1(version_df))\n",
    "        m2_list.append(m2(version_df))\n",
    "        m3_list.append(m3(version_df))\n",
    "        m4_list.append(m3(version_df))\n",
    "        m5_list.append(m3(version_df))\n",
    "        m6_list.append(m3(version_df))\n",
    "\n",
    "        ncloc_list.append(_ncloc(version_df))\n",
    "        repository_list.append(version_df['repository'].iloc[0])\n",
    "        version_list.append(version)\n",
    "        \n",
    "    metrics_df = pd.DataFrame({'m1': m1_list,\n",
    "                               'm2': m2_list,\n",
    "                               'm3': m3_list,\n",
    "                               'm4': m3_list,\n",
    "                               'm5': m3_list,\n",
    "                               'm6': m3_list,\n",
    "                               'repository': repository_list, \n",
    "                               'version': version_list,\n",
    "                               'ncloc': ncloc_list})\n",
    "        \n",
    "    return metrics_df"
   ]
  },
  {
   "cell_type": "code",
   "execution_count": 27,
   "metadata": {},
   "outputs": [
    {
     "data": {
      "text/plain": [
       "dict_keys(['2021.1-Cartografia-social-api-comunidades', '2021.1-Cartografia-social-api-gateway', '2021.1-Cartografia-social-api-mapas', '2021.1-Cartografia-social-api-midia', '2021.1-Cartografia-social-api-users', '2021.1-Cartografia-social-front'])"
      ]
     },
     "execution_count": 27,
     "metadata": {},
     "output_type": "execute_result"
    }
   ],
   "source": [
    "repository_metrics = {}\n",
    "\n",
    "for repository, repo_df in repository_dataframes.items():   \n",
    "    metrics_df = create_metrics_df(repo_df)\n",
    "    metrics_df.name = f\"{repository}\"\n",
    "    repository_metrics[f\"{repository}\"] = metrics_df\n",
    "    \n",
    "repository_dataframes.keys()"
   ]
  },
  {
   "cell_type": "code",
   "execution_count": null,
   "metadata": {},
   "outputs": [],
   "source": [
    "comunidades_metrics = create_metrics_df(eccoar_gateway_df)\n",
    "eccoar_complaint_metrics = create_metrics_df(eccoar_complaint_df)\n",
    "eccoar_frontend_metrics = create_metrics_df(eccoar_frontend_df)\n",
    "eccoar_mailer_metrics = create_metrics_df(eccoar_mailer_df)\n",
    "eccoar_reports_metrics = create_metrics_df(eccoar_reports_df)\n",
    "eccoar_users_metrics = create_metrics_df(eccoar_users_df)"
   ]
  },
  {
   "cell_type": "markdown",
   "metadata": {},
   "source": [
    "### Data visualization\n",
    "\n",
    "- You must do this for each of your repositories"
   ]
  },
  {
   "cell_type": "code",
   "execution_count": 39,
   "metadata": {},
   "outputs": [
    {
     "ename": "NameError",
     "evalue": "name 'repo1' is not defined",
     "output_type": "error",
     "traceback": [
      "\u001b[0;31m---------------------------------------------------------------------------\u001b[0m",
      "\u001b[0;31mNameError\u001b[0m                                 Traceback (most recent call last)",
      "\u001b[0;32m<ipython-input-39-76e3970c2f20>\u001b[0m in \u001b[0;36m<module>\u001b[0;34m\u001b[0m\n\u001b[1;32m      1\u001b[0m \u001b[0mfig\u001b[0m \u001b[0;34m=\u001b[0m \u001b[0mplt\u001b[0m\u001b[0;34m.\u001b[0m\u001b[0mfigure\u001b[0m\u001b[0;34m(\u001b[0m\u001b[0mfigsize\u001b[0m\u001b[0;34m=\u001b[0m\u001b[0;34m(\u001b[0m\u001b[0;36m20\u001b[0m\u001b[0;34m,\u001b[0m \u001b[0;36m10\u001b[0m\u001b[0;34m)\u001b[0m\u001b[0;34m)\u001b[0m\u001b[0;34m\u001b[0m\u001b[0;34m\u001b[0m\u001b[0m\n\u001b[1;32m      2\u001b[0m \u001b[0;34m\u001b[0m\u001b[0m\n\u001b[0;32m----> 3\u001b[0;31m \u001b[0mplt\u001b[0m\u001b[0;34m.\u001b[0m\u001b[0mplot\u001b[0m\u001b[0;34m(\u001b[0m\u001b[0mrepo1\u001b[0m\u001b[0;34m[\u001b[0m\u001b[0;34m'm1'\u001b[0m\u001b[0;34m]\u001b[0m\u001b[0;34m,\u001b[0m \u001b[0mlinewidth\u001b[0m\u001b[0;34m=\u001b[0m\u001b[0;36m3\u001b[0m\u001b[0;34m,\u001b[0m \u001b[0mmarker\u001b[0m\u001b[0;34m=\u001b[0m\u001b[0;34m'o'\u001b[0m\u001b[0;34m,\u001b[0m \u001b[0mmarkersize\u001b[0m\u001b[0;34m=\u001b[0m\u001b[0;36m10\u001b[0m\u001b[0;34m)\u001b[0m\u001b[0;34m\u001b[0m\u001b[0;34m\u001b[0m\u001b[0m\n\u001b[0m\u001b[1;32m      4\u001b[0m \u001b[0mplt\u001b[0m\u001b[0;34m.\u001b[0m\u001b[0mplot\u001b[0m\u001b[0;34m(\u001b[0m\u001b[0mrepo1\u001b[0m\u001b[0;34m[\u001b[0m\u001b[0;34m'm2'\u001b[0m\u001b[0;34m]\u001b[0m\u001b[0;34m,\u001b[0m \u001b[0mlinewidth\u001b[0m\u001b[0;34m=\u001b[0m\u001b[0;36m3\u001b[0m\u001b[0;34m,\u001b[0m \u001b[0mmarker\u001b[0m\u001b[0;34m=\u001b[0m\u001b[0;34m'o'\u001b[0m\u001b[0;34m,\u001b[0m \u001b[0mmarkersize\u001b[0m\u001b[0;34m=\u001b[0m\u001b[0;36m10\u001b[0m\u001b[0;34m)\u001b[0m\u001b[0;34m\u001b[0m\u001b[0;34m\u001b[0m\u001b[0m\n\u001b[1;32m      5\u001b[0m \u001b[0mplt\u001b[0m\u001b[0;34m.\u001b[0m\u001b[0mplot\u001b[0m\u001b[0;34m(\u001b[0m\u001b[0mrepo1\u001b[0m\u001b[0;34m[\u001b[0m\u001b[0;34m'm3'\u001b[0m\u001b[0;34m]\u001b[0m\u001b[0;34m,\u001b[0m \u001b[0mlinewidth\u001b[0m\u001b[0;34m=\u001b[0m\u001b[0;36m3\u001b[0m\u001b[0;34m,\u001b[0m \u001b[0mmarker\u001b[0m\u001b[0;34m=\u001b[0m\u001b[0;34m'o'\u001b[0m\u001b[0;34m,\u001b[0m \u001b[0mmarkersize\u001b[0m\u001b[0;34m=\u001b[0m\u001b[0;36m10\u001b[0m\u001b[0;34m)\u001b[0m\u001b[0;34m\u001b[0m\u001b[0;34m\u001b[0m\u001b[0m\n",
      "\u001b[0;31mNameError\u001b[0m: name 'repo1' is not defined"
     ]
    },
    {
     "data": {
      "text/plain": [
       "<Figure size 1440x720 with 0 Axes>"
      ]
     },
     "metadata": {},
     "output_type": "display_data"
    }
   ],
   "source": [
    "fig = plt.figure(figsize=(20, 10))\n",
    "\n",
    "plt.plot(repo1['m1'], linewidth=3, marker='o', markersize=10)\n",
    "plt.plot(repo1['m2'], linewidth=3, marker='o', markersize=10)\n",
    "plt.plot(repo1['m3'], linewidth=3, marker='o', markersize=10)\n",
    "plt.plot(repo1['m4'], linewidth=3, marker='o', markersize=10)\n",
    "plt.plot(repo1['m5'], linewidth=3, marker='o', markersize=10)\n",
    "plt.plot(repo1['m6'], linewidth=3, marker='o', markersize=10)"
   ]
  },
  {
   "cell_type": "code",
   "execution_count": null,
   "metadata": {
    "jupyter": {
     "outputs_hidden": false
    },
    "pycharm": {
     "name": "#%%\n"
    }
   },
   "outputs": [],
   "source": [
    "fig = plt.figure(figsize=(20, 10))\n",
    "\n",
    "plt.plot(repo2['m1'], linewidth=3, marker='o', markersize=10)\n",
    "plt.plot(repo2['m2'], linewidth=3, marker='o', markersize=10)\n",
    "plt.plot(repo2['m3'], linewidth=3, marker='o', markersize=10)\n",
    "plt.plot(repo2['m4'], linewidth=3, marker='o', markersize=10)\n",
    "plt.plot(repo2['m5'], linewidth=3, marker='o', markersize=10)\n",
    "plt.plot(repo2['m6'], linewidth=3, marker='o', markersize=10)\n",
    "\n",
    "..."
   ]
  },
  {
   "cell_type": "markdown",
   "metadata": {},
   "source": [
    "### Sub characteristic aggregation\n",
    "\n",
    "- You must do this for each of your repositories"
   ]
  },
  {
   "cell_type": "code",
   "execution_count": null,
   "metadata": {},
   "outputs": [],
   "source": [
    "psc1, psc2 = 1\n",
    "pc1, pc2 = 0.5\n",
    "pm1 = 0.33\n",
    "pm2 = 0.33\n",
    "pm3 = 0.33\n",
    "pm4 = 0.15\n",
    "pm5 = 0.15\n",
    "pm6 = 0.7\n",
    "\n",
    "repo1['code_quality'] = ((repo1['m1']*pm1) + (repo1['m2']*pm2) + (repo1['m3']*pm3)) * psc1\n",
    "repo2['code_quality'] = ((repo2['m1']*pm1) + (repo2['m2']*pm2) + (repo2['m3']*pm3)) * psc1\n",
    "...\n",
    "\n",
    "repo1['testing_status'] = ((repo1['m4']*pm4) + (repo1['m5']*pm5) + (repo1['m6']*pm6)) * psc2\n",
    "repo2['testing_status'] = ((repo2['m4']*pm4) + (repo2['m5']*pm5) + (repo2['m6']*pm6)) * psc2\n",
    "..."
   ]
  },
  {
   "cell_type": "code",
   "execution_count": null,
   "metadata": {},
   "outputs": [],
   "source": [
    "fig = plt.figure(figsize=(20, 10))\n",
    "\n",
    "\n",
    "plt.plot(repo1['code_quality'], linewidth=3, marker='o', markersize=5)\n",
    "plt.plot(repo2['code_quality'], linewidth=3, marker='o', markersize=5)\n",
    "..."
   ]
  },
  {
   "cell_type": "code",
   "execution_count": null,
   "metadata": {
    "jupyter": {
     "outputs_hidden": false
    },
    "pycharm": {
     "name": "#%%\n"
    }
   },
   "outputs": [],
   "source": [
    "fig = plt.figure(figsize=(20, 10))\n",
    "\n",
    "\n",
    "plt.plot(repo1['testing_status'], linewidth=3, marker='o', markersize=5)\n",
    "plt.plot(repo2['testing_status'], linewidth=3, marker='o', markersize=5)\n",
    "...\n"
   ]
  },
  {
   "cell_type": "code",
   "execution_count": null,
   "metadata": {},
   "outputs": [],
   "source": [
    "metrics_df = pd.concat([repo1_metrics, repo2_metrics, ...], ignore_index=True)\n",
    "\n",
    "metrics_df['maintainability'] = metrics_df['code_quality'] * pc1\n",
    "metrics_df['Reliability'] = metrics_df['testing_status'] * pc2\n",
    "metrics_df['total'] = metrics_df['maintainability'] + metrics_df['Reliability']"
   ]
  },
  {
   "cell_type": "code",
   "execution_count": null,
   "metadata": {},
   "outputs": [],
   "source": [
    "metrics_df"
   ]
  },
  {
   "cell_type": "code",
   "execution_count": null,
   "metadata": {
    "pycharm": {
     "name": "#%%\n"
    }
   },
   "outputs": [],
   "source": [
    "fig = plt.figure(figsize=(20, 10))\n",
    "\n",
    "\n",
    "plt.plot(metrics_df['maintainability'], linewidth=3, marker='o', markersize=5)\n",
    "plt.plot(metrics_df['Reliability'], linewidth=3, marker='o', markersize=5)\n",
    "\n",
    "\n",
    "plt.ylim(.45,.7)"
   ]
  },
  {
   "cell_type": "code",
   "execution_count": null,
   "metadata": {
    "pycharm": {
     "name": "#%%\n"
    }
   },
   "outputs": [],
   "source": [
    "fig = plt.figure(figsize=(20, 10))\n",
    "\n",
    "\n",
    "plt.plot(metrics_df['total'], linewidth=3, marker='o', markersize=5)\n",
    "\n",
    "\n",
    "plt.ylim(.45,.7)\n"
   ]
  },
  {
   "cell_type": "code",
   "execution_count": null,
   "metadata": {},
   "outputs": [],
   "source": [
    "# ANALYSIS_DATE FORMAT: MM-DD-YYYY\n",
    "\n",
    "metrics_df.to_excel('data/ga-eps-mds-2021_1-NOME_PROJETO-DATASET-ANALYSIS_DATE.xlsx', index = False)\n",
    "metrics_df.to_csv('data/ga-eps-mds-2021_1-NOME_PROJETO-DATASET-ANALYSIS_DATE.csv', index = False)"
   ]
  }
 ],
 "metadata": {
  "kernelspec": {
   "display_name": "Python 3",
   "language": "python",
   "name": "python3"
  },
  "language_info": {
   "codemirror_mode": {
    "name": "ipython",
    "version": 3
   },
   "file_extension": ".py",
   "mimetype": "text/x-python",
   "name": "python",
   "nbconvert_exporter": "python",
   "pygments_lexer": "ipython3",
   "version": "3.8.8"
  }
 },
 "nbformat": 4,
 "nbformat_minor": 4
}
