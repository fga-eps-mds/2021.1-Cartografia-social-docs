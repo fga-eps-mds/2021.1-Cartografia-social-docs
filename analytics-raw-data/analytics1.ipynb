{
 "cells": [
  {
   "cell_type": "markdown",
   "metadata": {},
   "source": [
    "# Analytics"
   ]
  },
  {
   "cell_type": "markdown",
   "metadata": {},
   "source": [
    "#### Date: 2020/02\n",
    "\n",
    "#### SUMMARY:\n",
    "\n",
    "- This notebook represents the project quality analysis of the date exposed right above. "
   ]
  },
  {
   "cell_type": "markdown",
   "metadata": {},
   "source": [
    "### TEAM:\n",
    "\n",
    "##### Semester: YYYY/0X\n",
    "##### Professor: Hilmer Neri\n",
    "\n",
    "##### Members:\n",
    "\n",
    "- Member x\n",
    "- Member y"
   ]
  },
  {
   "cell_type": "markdown",
   "metadata": {},
   "source": [
    "### LIBRARIES"
   ]
  },
  {
   "cell_type": "code",
   "execution_count": 855,
   "metadata": {},
   "outputs": [],
   "source": [
    "# Deal with data\n",
    "import pandas as pd\n",
    "import numpy as np\n",
    "import json\n",
    "from glob import glob\n",
    "import os\n",
    "\n",
    "# Deal with API request\n",
    "import urllib3\n",
    "from urllib3 import request\n",
    "\n",
    "# Deal with visualization\n",
    "import seaborn as sns\n",
    "import matplotlib.pyplot as plt\n",
    "\n",
    "from IPython.core.display import display, HTML"
   ]
  },
  {
   "cell_type": "markdown",
   "metadata": {},
   "source": [
    "### GRAPH SETTINGS"
   ]
  },
  {
   "cell_type": "code",
   "execution_count": 856,
   "metadata": {},
   "outputs": [],
   "source": [
    "%config InlineBackend.figure_format ='retina'\n",
    "sns.set(font_scale=1.5)\n",
    "sns.set_style('darkgrid',\n",
    "              {'xtick.bottom' : True,\n",
    "               'ytick.left': True,\n",
    "               'grid.linestyle':'--',\n",
    "               'font.monospace': ['Computer Modern Typewriter'],\n",
    "               'axes.edgecolor' : 'white'})"
   ]
  },
  {
   "cell_type": "markdown",
   "metadata": {},
   "source": [
    "### DATAFRAME SETTINGS"
   ]
  },
  {
   "cell_type": "code",
   "execution_count": 857,
   "metadata": {},
   "outputs": [],
   "source": [
    "pd.set_option(\"display.max_rows\", None, \"display.max_columns\", None)"
   ]
  },
  {
   "cell_type": "markdown",
   "metadata": {},
   "source": [
    "### SonarCloud"
   ]
  },
  {
   "cell_type": "code",
   "execution_count": 858,
   "metadata": {},
   "outputs": [],
   "source": [
    "repos = [\n",
    "    '2021.1-Cartografia-social-api-comunidades',\n",
    "    '2021.1-Cartografia-social-api-gateway',\n",
    "    '2021.1-Cartografia-social-api-mapas',\n",
    "    '2021.1-Cartografia-social-api-midia',\n",
    "    '2021.1-Cartografia-social-api-users'\n",
    "    #'2021.1-Cartografia-social-front'\n",
    "]\n",
    "\n",
    "language = [['2021.1-Cartografia-social-api-comunidades', 'ts'], \n",
    "            ['2021.1-Cartografia-social-api-gateway', 'ts'], \n",
    "            ['2021.1-Cartografia-social-api-mapas', 'ts'], \n",
    "            ['2021.1-Cartografia-social-api-midia', 'ts'], \n",
    "            ['2021.1-Cartografia-social-api-users', 'ts']] \n",
    "            #['2021.1-Cartografia-social-front', 'js']]\n",
    "\n",
    "repos_language = {}\n",
    "\n",
    "for item in language:\n",
    "    repos_language[f\"{item[0]}\"] = item[1]"
   ]
  },
  {
   "cell_type": "code",
   "execution_count": 859,
   "metadata": {},
   "outputs": [
    {
     "data": {
      "text/plain": [
       "{'2021.1-Cartografia-social-api-comunidades': 'ts',\n",
       " '2021.1-Cartografia-social-api-gateway': 'ts',\n",
       " '2021.1-Cartografia-social-api-mapas': 'ts',\n",
       " '2021.1-Cartografia-social-api-midia': 'ts',\n",
       " '2021.1-Cartografia-social-api-users': 'ts'}"
      ]
     },
     "execution_count": 859,
     "metadata": {},
     "output_type": "execute_result"
    }
   ],
   "source": [
    "repos_language"
   ]
  },
  {
   "cell_type": "markdown",
   "metadata": {},
   "source": [
    "##### Path to the folder with all your jsons"
   ]
  },
  {
   "cell_type": "code",
   "execution_count": 860,
   "metadata": {},
   "outputs": [],
   "source": [
    "jsons = glob('**/*.json') # add the path here"
   ]
  },
  {
   "cell_type": "code",
   "execution_count": 861,
   "metadata": {},
   "outputs": [],
   "source": [
    "def read_json(json_path):\n",
    "    \n",
    "    with open(json_path) as json_file:\n",
    "        json_obj = json.load(json_file)\n",
    "        \n",
    "    return json_obj\n",
    "\n",
    "def create_base_component_df(json_list):\n",
    "    \n",
    "    df = pd.DataFrame()\n",
    "\n",
    "    for i in json_list:\n",
    "\n",
    "        base_component = read_json(i)\n",
    "\n",
    "        base_component_data = base_component['baseComponent']['measures']\n",
    "\n",
    "        base_component_df = pd.DataFrame(base_component_data)\n",
    "\n",
    "        base_component_df['filename'] = os.path.basename(i)\n",
    "\n",
    "        df = df.append(base_component_df, ignore_index=True)\n",
    "        \n",
    "    aux_df = df['filename'].str.split(r\"fga-eps-mds-2021_1-(.*?)_(.*?)_(.*?).json\", expand=True)\n",
    "    \n",
    "    df['repository'] = aux_df[1]\n",
    "    \n",
    "    df['version'] = aux_df[3]\n",
    "    \n",
    "    df = df.sort_values(by=['repository', 'version'])\n",
    "        \n",
    "    return df"
   ]
  },
  {
   "cell_type": "markdown",
   "metadata": {},
   "source": [
    "#### Create base component dataframe"
   ]
  },
  {
   "cell_type": "code",
   "execution_count": 862,
   "metadata": {},
   "outputs": [],
   "source": [
    "base_component_df = create_base_component_df(jsons)\n",
    "#print(base_component_df)"
   ]
  },
  {
   "cell_type": "code",
   "execution_count": 863,
   "metadata": {},
   "outputs": [],
   "source": [
    "#base_component_df.head(50)"
   ]
  },
  {
   "cell_type": "markdown",
   "metadata": {},
   "source": [
    "#### Create dataframe per file"
   ]
  },
  {
   "cell_type": "code",
   "execution_count": 864,
   "metadata": {},
   "outputs": [
    {
     "data": {
      "text/plain": [
       "12"
      ]
     },
     "execution_count": 864,
     "metadata": {},
     "output_type": "execute_result"
    }
   ],
   "source": [
    "metric_list = ['files',\n",
    "               'functions',\n",
    "               'complexity',\n",
    "               'comment_lines_density',\n",
    "               'duplicated_lines_density',\n",
    "               'coverage',\n",
    "               'ncloc',\n",
    "               'security_rating',\n",
    "               'tests',\n",
    "               'test_success_density',\n",
    "               'test_execution_time',\n",
    "               'reliability_rating']\n",
    "\n",
    "len(metric_list)"
   ]
  },
  {
   "cell_type": "code",
   "execution_count": 865,
   "metadata": {},
   "outputs": [],
   "source": [
    "def metric_per_file(json):\n",
    "    \n",
    "    file_json = []\n",
    "    \n",
    "    for component in json['components']:\n",
    "        if component['qualifier'] == 'FIL':\n",
    "            file_json.append(component)\n",
    "            \n",
    "    return file_json\n",
    "\n",
    "def generate_file_dataframe_per_release(metric_list, json, language_extension):\n",
    "    \n",
    "    df_columns = metric_list\n",
    "    df = pd.DataFrame(columns = df_columns)\n",
    "    \n",
    "    for file in json:\n",
    "        try:\n",
    "            if file['language'] == language_extension:\n",
    "                for measure in file['measures']:\n",
    "                    df.at[file['path'], measure['metric']] = measure['value']\n",
    "        except:\n",
    "            pass\n",
    "        \n",
    "    df.reset_index(inplace = True)\n",
    "    df = df.rename({'index': 'path'}, axis=1).drop(['files'], axis=1)\n",
    "\n",
    "    return df\n",
    "\n",
    "def create_file_df(json_list):\n",
    "    \n",
    "    df = pd.DataFrame()\n",
    "\n",
    "    for i in json_list:\n",
    "\n",
    "        file_component = read_json(i)\n",
    "        \n",
    "        file_component_data = metric_per_file(file_component)\n",
    "\n",
    "        file_component_df = generate_file_dataframe_per_release(metric_list, file_component_data, language_extension = 'ts')\n",
    "\n",
    "        file_component_df['filename'] = os.path.basename(i)\n",
    "\n",
    "        df = df.append(file_component_df, ignore_index=True)\n",
    "        \n",
    "    # replace TeamName by yours.    \n",
    "    aux_df = df['filename'].str.split(r\"fga-eps-mds-2021_1-(.*?)_(.*?)_(.*?).json\", expand=True)\n",
    "    \n",
    "    df['repository'] = aux_df[1]\n",
    "    \n",
    "    df['version'] = aux_df[3]\n",
    "    \n",
    "    df = df.sort_values(by=['repository', 'version'])\n",
    "\n",
    "    df.to_csv('result2.csv')\n",
    "    \n",
    "    return df"
   ]
  },
  {
   "cell_type": "code",
   "execution_count": 866,
   "metadata": {
    "scrolled": true
   },
   "outputs": [],
   "source": [
    "file_component_df = create_file_df(jsons)\n"
   ]
  },
  {
   "cell_type": "code",
   "execution_count": 867,
   "metadata": {},
   "outputs": [],
   "source": [
    "#print(file_component_df['version'])\n",
    "file_component_df = file_component_df.sort_values(by='version')\n",
    "#print(file_component_df)"
   ]
  },
  {
   "cell_type": "code",
   "execution_count": 868,
   "metadata": {},
   "outputs": [
    {
     "data": {
      "text/plain": [
       "array(['Cartografia-social-api-comunidades',\n",
       "       'Cartografia-social-api-mapas', 'Cartografia-social-api-users',\n",
       "       'Cartografia-social-api-gateway', 'Cartografia-social-api-midia'],\n",
       "      dtype=object)"
      ]
     },
     "execution_count": 868,
     "metadata": {},
     "output_type": "execute_result"
    }
   ],
   "source": [
    "#file_component_df.head(100)\n",
    "file_component_df.repository.unique()"
   ]
  },
  {
   "cell_type": "markdown",
   "metadata": {},
   "source": [
    "#### Create dataframe per repository"
   ]
  },
  {
   "cell_type": "code",
   "execution_count": 869,
   "metadata": {},
   "outputs": [
    {
     "data": {
      "text/plain": [
       "dict_keys(['2021.1-Cartografia-social-api-comunidades', '2021.1-Cartografia-social-api-gateway', '2021.1-Cartografia-social-api-mapas', '2021.1-Cartografia-social-api-midia', '2021.1-Cartografia-social-api-users'])"
      ]
     },
     "execution_count": 869,
     "metadata": {},
     "output_type": "execute_result"
    }
   ],
   "source": [
    "repository_dataframes = {} \n",
    "\n",
    "for repository in repos:\n",
    "    df = file_component_df[file_component_df['repository'] == f\"{repository}\"]\n",
    "    df.name = f\"{repository}\"\n",
    "    repository_dataframes[f\"{repository}\"] = df\n",
    "    \n",
    "repository_dataframes.keys()"
   ]
  },
  {
   "cell_type": "code",
   "execution_count": 870,
   "metadata": {},
   "outputs": [],
   "source": [
    "api_comunidades_df = file_component_df[file_component_df['repository'] == 'Cartografia-social-api-comunidades']\n",
    "api_gateway_df = file_component_df[file_component_df['repository'] == 'Cartografia-social-api-gateway']\n",
    "api_mapas_df = file_component_df[file_component_df['repository'] == 'Cartografia-social-api-mapas']\n",
    "api_midia_df = file_component_df[file_component_df['repository'] == 'Cartografia-social-api-midia']\n",
    "api_users_df = file_component_df[file_component_df['repository'] == 'Cartografia-social-api-users']\n",
    "#front_df = file_component_df[file_component_df['repository'] == '2021.1-Cartografia-social-api-front']\n",
    "#print(api_comunidades_df)"
   ]
  },
  {
   "cell_type": "markdown",
   "metadata": {},
   "source": [
    "### Measure calculations according Q-Rapids quality model"
   ]
  },
  {
   "cell_type": "markdown",
   "metadata": {},
   "source": [
    "# Quality Aspect - Maintainability\n",
    "## Factor - Code Quality"
   ]
  },
  {
   "cell_type": "markdown",
   "metadata": {},
   "source": [
    "##### COMPLEXITY"
   ]
  },
  {
   "cell_type": "code",
   "execution_count": 871,
   "metadata": {},
   "outputs": [],
   "source": [
    "def m1(df):\n",
    "    \n",
    "    density_non_complex_files = len(df[(df['complexity'].astype(float)/df['functions'].astype(float)) < 10])/len(df)\n",
    "    \n",
    "    return density_non_complex_files"
   ]
  },
  {
   "cell_type": "markdown",
   "metadata": {},
   "source": [
    "##### COMMENTS"
   ]
  },
  {
   "cell_type": "code",
   "execution_count": 872,
   "metadata": {},
   "outputs": [],
   "source": [
    "def m2(df):\n",
    "    \n",
    "    density_comment_files = len(df[(df['comment_lines_density'].astype(float) > 10) & (df['comment_lines_density'].astype(float) < 30)])/len(df)\n",
    "    \n",
    "    return density_comment_files"
   ]
  },
  {
   "cell_type": "markdown",
   "metadata": {},
   "source": [
    "##### DUPLICATIONS"
   ]
  },
  {
   "cell_type": "code",
   "execution_count": 873,
   "metadata": {},
   "outputs": [],
   "source": [
    "def m3(df):\n",
    "    \n",
    "    duplication = len(df[(df['duplicated_lines_density'].astype(float) < 5)])/len(df)\n",
    "    \n",
    "    return duplication"
   ]
  },
  {
   "cell_type": "code",
   "execution_count": 874,
   "metadata": {
    "jupyter": {
     "outputs_hidden": false
    },
    "pycharm": {
     "name": "#%%\n"
    }
   },
   "outputs": [],
   "source": [
    "def _ncloc(df):\n",
    "    ncloc = 0\n",
    "    for each in df['ncloc']:\n",
    "        ncloc += int(each)\n",
    "    \n",
    "    return ncloc"
   ]
  },
  {
   "cell_type": "markdown",
   "metadata": {},
   "source": [
    "# Quality Aspect - Reliability\n",
    "## Factor - Testing Status"
   ]
  },
  {
   "cell_type": "markdown",
   "metadata": {},
   "source": [
    "##### Passed tests"
   ]
  },
  {
   "cell_type": "code",
   "execution_count": 875,
   "metadata": {
    "jupyter": {
     "outputs_hidden": false
    },
    "pycharm": {
     "name": "#%%\n"
    }
   },
   "outputs": [],
   "source": [
    "def m4(df):\n",
    "\n",
    "    passed_tests = df['test_success_density'].astype(float).median() / 100\n",
    "\n",
    "    return passed_tests"
   ]
  },
  {
   "cell_type": "markdown",
   "metadata": {},
   "source": [
    "##### Fast test builds"
   ]
  },
  {
   "cell_type": "code",
   "execution_count": 876,
   "metadata": {
    "jupyter": {
     "outputs_hidden": false
    },
    "pycharm": {
     "name": "#%%\n"
    }
   },
   "outputs": [],
   "source": [
    "def m5(df):\n",
    "\n",
    "    density_fast_test_builds = len(df[(df['test_execution_time'].astype(float)) < 300]) / sum(df['tests'].astype(float))\n",
    "\n",
    "    return density_fast_test_builds"
   ]
  },
  {
   "cell_type": "markdown",
   "metadata": {},
   "source": [
    "##### Test coverage"
   ]
  },
  {
   "cell_type": "code",
   "execution_count": 877,
   "metadata": {
    "jupyter": {
     "outputs_hidden": false
    },
    "pycharm": {
     "name": "#%%\n"
    }
   },
   "outputs": [],
   "source": [
    "def m6(df):\n",
    "\n",
    "    density_test_coverage = len(df[(df['coverage'].astype(float) > 60)]) / len(df)\n",
    "\n",
    "    return density_test_coverage"
   ]
  },
  {
   "cell_type": "markdown",
   "metadata": {},
   "source": [
    "### Calculate m1, m2, m3, m4, m5 and m6 for each repository"
   ]
  },
  {
   "cell_type": "code",
   "execution_count": 878,
   "metadata": {},
   "outputs": [],
   "source": [
    "def create_metrics_df(df):\n",
    "    \n",
    "    version_vec = df['version'].unique()\n",
    "    \n",
    "    m1_list = []\n",
    "    m2_list = []\n",
    "    m3_list = []\n",
    "    m4_list = []\n",
    "    m5_list = []\n",
    "    m6_list = []\n",
    "\n",
    "    ncloc_list = []\n",
    "    repository_list = []\n",
    "    version_list = []\n",
    "    \n",
    "    metrics_df = pd.DataFrame()\n",
    "    \n",
    "    for version in version_vec:\n",
    "\n",
    "        version_df = df[df['version'] == version]\n",
    "\n",
    "        m1_list.append(m1(version_df))\n",
    "        m2_list.append(m2(version_df))\n",
    "        m3_list.append(m3(version_df))\n",
    "        m4_list.append(m3(version_df))\n",
    "        m5_list.append(m3(version_df))\n",
    "        m6_list.append(m3(version_df))\n",
    "\n",
    "        ncloc_list.append(_ncloc(version_df))\n",
    "        repository_list.append(version_df['repository'].iloc[0])\n",
    "        version_list.append(version)\n",
    "        \n",
    "    metrics_df = pd.DataFrame({'m1': m1_list,\n",
    "                               'm2': m2_list,\n",
    "                               'm3': m3_list,\n",
    "                               'm4': m3_list,\n",
    "                               'm5': m3_list,\n",
    "                               'm6': m3_list,\n",
    "                               'repository': repository_list, \n",
    "                               'version': version_list,\n",
    "                               'ncloc': ncloc_list\n",
    "                              })\n",
    "        \n",
    "    return metrics_df"
   ]
  },
  {
   "cell_type": "code",
   "execution_count": 879,
   "metadata": {},
   "outputs": [
    {
     "data": {
      "text/plain": [
       "dict_keys(['2021.1-Cartografia-social-api-comunidades', '2021.1-Cartografia-social-api-gateway', '2021.1-Cartografia-social-api-mapas', '2021.1-Cartografia-social-api-midia', '2021.1-Cartografia-social-api-users'])"
      ]
     },
     "execution_count": 879,
     "metadata": {},
     "output_type": "execute_result"
    }
   ],
   "source": [
    "repository_metrics = {}\n",
    "\n",
    "for repository, repo_df in repository_dataframes.items():   \n",
    "    metrics_df = create_metrics_df(repo_df)\n",
    "    metrics_df.name = f\"{repository}\"\n",
    "    repository_metrics[f\"{repository}\"] = metrics_df\n",
    "    \n",
    "repository_dataframes.keys()"
   ]
  },
  {
   "cell_type": "code",
   "execution_count": 880,
   "metadata": {},
   "outputs": [
    {
     "data": {
      "text/plain": [
       "Ellipsis"
      ]
     },
     "execution_count": 880,
     "metadata": {},
     "output_type": "execute_result"
    }
   ],
   "source": [
    "api_comunidades_metrics = create_metrics_df(api_comunidades_df)\n",
    "api_gateway_metrics = create_metrics_df(api_gateway_df)\n",
    "api_mapas_metrics = create_metrics_df(api_mapas_df)\n",
    "api_midia_metrics = create_metrics_df(api_midia_df)\n",
    "api_users_metrics = create_metrics_df(api_users_df)\n",
    "#front_metrics = create_metrics_df(front_df)\n",
    "..."
   ]
  },
  {
   "cell_type": "code",
   "execution_count": 881,
   "metadata": {},
   "outputs": [],
   "source": [
    "all_metrics = pd.concat([api_comunidades_metrics, api_gateway_metrics, api_mapas_metrics, api_midia_metrics, api_users_metrics], ignore_index=True)"
   ]
  },
  {
   "cell_type": "markdown",
   "metadata": {},
   "source": [
    "# Visualização dos Dados de [Maintainability e Reliability] \n",
    "\n",
    "- De cada repositório do nosso micro-serviço"
   ]
  },
  {
   "cell_type": "markdown",
   "metadata": {},
   "source": [
    "## Análise de estatistica descritiva\n",
    "\n",
    "- Realiza o cálculo de dados estatísticos de medidas de tendência central, como média, mediana, moda e percentis. Já as medidas de dispersão são o mínimo, máximo, desvio padrão e variância.Esta fase é a fase inicial da nossa análise de dados para descrever e resumir os nossos dados análisados.\n",
    "\n",
    "Interpretando os dados:\n",
    "\n",
    "- Média: Média dos valores do conjunto de dados\n",
    "- Mediana: A mediana é o valor da váriavel que ocupa posição central do conjunto de dados ordenado. Na tabela de análise descritiva o valor 50% é o valor da mediana, e os valores de 75% e 25% são os percentis superiores e inferiores respectivamente, para uma melhor visualização ao fim da tabela foi adicionado um campo chamado mediana, porém o mesmo é igual ao valor de 50% já apresentado.\n",
    "- Moda: Valor mais recorrente do conjunto de dados.\n",
    "- Máximo: Maior valor do conjunto de dados\n",
    "- Desvio padrão (std): Indica a dispersão do conjunto de dados, quanto mais próximo esse valor estiver de 0 mais homogêneo é o conjunto.\n",
    "- Variância: Menor valor do conjunto de dados.\n",
    "- Percentis: Os percentis incluidos na saída estão entre 0 e 1 e retornam o percentis de 25%, 50% e 75%"
   ]
  },
  {
   "cell_type": "code",
   "execution_count": 882,
   "metadata": {},
   "outputs": [],
   "source": [
    "def descriptive_statistics(df):\n",
    "    #Gera uma estatísticas descritivas excluindo NaN values\n",
    "    metrics = df.describe()\n",
    "    \n",
    "    \n",
    "    median = df.median()\n",
    "  \n",
    "    variance = df.var()\n",
    "    variance_df = pd.DataFrame({\"var\": variance,\n",
    "                               \"median\": median})\n",
    "    \n",
    "    variance_df = variance_df.T\n",
    "    \n",
    "    return metrics.append(variance_df).T"
   ]
  },
  {
   "cell_type": "markdown",
   "metadata": {},
   "source": [
    "## Matriz de Correlação\n",
    "\n",
    "* Duas estátisticas estão correlacionadas quando existe qualquer associação estatística entre elas, essa correlação pode ser o quão porximas duas váriavéis estão de ter uma relação linear entre si. Aqui usamos a correlação de Pearson onde os valores de r vão de -1 a 1, essa correlação é positiva quando r > 0, isso significa que ambas as váriaveis se movem na mesmas direção, ou essa correlação pode ser negativa (r < 0), que é quando as váriaveis andam em direções opostas.\n",
    "\n",
    "- Correlação positiva: ambas as variáveis mudam na mesma direção. (r > 0)\n",
    " - Correlação Nula: Nenhuma relação na mudança das variáveis. (r = 0 ou Nulo)\n",
    "- Correlação Negativa: as variáveis mudam em direções opostas. (r < 0)\n",
    "\n",
    "* Pela fórmula a correlação é um número entre -1 e 1 e interpretamos da seguinte maneira: quanto mais o r estiver próximo de 1 ou -1 mais forte será a correlação.\n",
    "\n",
    "https://rstudio-pubs-static.s3.amazonaws.com/437792_df39a5ff0a55491fb71f0f4a0f5cd0bf.html"
   ]
  },
  {
   "cell_type": "code",
   "execution_count": 883,
   "metadata": {},
   "outputs": [],
   "source": [
    "def correlationMatrix(df):\n",
    "    corrMatrix = df.corr(method='pearson')\n",
    "    return corrMatrix"
   ]
  },
  {
   "cell_type": "markdown",
   "metadata": {},
   "source": [
    "### Percentis Table"
   ]
  },
  {
   "cell_type": "code",
   "execution_count": 884,
   "metadata": {},
   "outputs": [],
   "source": [
    "def descriptive_per(df):\n",
    "    #Gera uma estatísticas descritivas excluindo NaN values\n",
    "    metrics = df.describe(percentiles=[0.0, 0.10, 0.20, 0.30, 0.40, 0.60, 0.70, 0.80, 0.99])\n",
    "    metrics = metrics.drop(index=['count', 'std', 'mean', 'min', 'max'])\n",
    "    return metrics"
   ]
  },
  {
   "cell_type": "markdown",
   "metadata": {},
   "source": [
    "### Gráfico Box-Plot\n",
    "\n",
    "- colocar descrição"
   ]
  },
  {
   "cell_type": "code",
   "execution_count": 885,
   "metadata": {},
   "outputs": [],
   "source": [
    "def generate_box(df, repository):\n",
    "    np.random.seed(1234)\n",
    "    df = pd.DataFrame(np.random.randn(10, 6),\n",
    "                      columns=['m1', 'm2', 'm3', 'm4', 'm5', 'm6'])\n",
    "    \n",
    "    plt.title(f\"{repository}\")\n",
    "    boxplot = df.boxplot(column=['m1', 'm2', 'm3', 'm4', 'm5', 'm6'])\n",
    "    "
   ]
  },
  {
   "cell_type": "code",
   "execution_count": 886,
   "metadata": {},
   "outputs": [],
   "source": [
    "#plot history\n",
    "def plot_history(df, repository):\n",
    "    \n",
    "    fig = plt.figure(figsize=(20, 10))\n",
    "    plt.title(f\"{repository}:COMPLEXITY\")\n",
    "    plt.plot(df['m1'], linewidth=3, marker='o', markersize=10)\n",
    "    \n",
    "    fig = plt.figure(figsize=(20, 10))\n",
    "    plt.title(f\"{repository}:COMMENTS\")\n",
    "    plt.plot(df['m2'], linewidth=3, marker='o', markersize=10)\n",
    "    \n",
    "    fig = plt.figure(figsize=(20, 10))\n",
    "    plt.title(f\"{repository}:DUPLICATIONS\")\n",
    "    plt.plot(df['m3'], linewidth=3, marker='o', markersize=10)\n",
    "    \n",
    "#    fig = plt.figure(figsize=(20, 10))\n",
    "#    plt.title(f\"{repository}:PASSED TESTS\")\n",
    "#    plt.plot(df['m4'], linewidth=3, marker='o', markersize=10)\n",
    "    \n",
    "#    fig = plt.figure(figsize=(20, 10))\n",
    "#    plt.title(f\"{repository}:FAST TESTS BUILD\")\n",
    "#    plt.plot(df['m4'], linewidth=3, marker='o', markersize=10)"
   ]
  },
  {
   "cell_type": "markdown",
   "metadata": {},
   "source": [
    "## Análise de  [Maintainability e Reliability] do repositório Cartografia-social-api-comunidades"
   ]
  },
  {
   "cell_type": "code",
   "execution_count": 887,
   "metadata": {},
   "outputs": [],
   "source": [
    "generic_df = api_comunidades_metrics.copy()\n",
    "repository = \"CARTOGRAFIA-SOCIAL-API-COMUNIDADES\""
   ]
  },
  {
   "cell_type": "markdown",
   "metadata": {},
   "source": [
    "### Plot do Histórico das métricas - comunidades"
   ]
  },
  {
   "cell_type": "code",
   "execution_count": 888,
   "metadata": {},
   "outputs": [],
   "source": [
    "#plot_history(generic_df, repository)"
   ]
  },
  {
   "cell_type": "markdown",
   "metadata": {},
   "source": [
    "### Estatistica descritiva - comunidades"
   ]
  },
  {
   "cell_type": "code",
   "execution_count": 889,
   "metadata": {},
   "outputs": [],
   "source": [
    "#descriptive_statistics(generic_df)"
   ]
  },
  {
   "cell_type": "markdown",
   "metadata": {},
   "source": [
    "### Cálculo da moda - comunidades"
   ]
  },
  {
   "cell_type": "code",
   "execution_count": 890,
   "metadata": {},
   "outputs": [],
   "source": [
    "#generic_df.mode(numeric_only=True)"
   ]
  },
  {
   "cell_type": "markdown",
   "metadata": {},
   "source": [
    "### Tabela de porcentagem - comunidades"
   ]
  },
  {
   "cell_type": "code",
   "execution_count": 891,
   "metadata": {
    "scrolled": false
   },
   "outputs": [],
   "source": [
    "#descriptive_per(generic_df)"
   ]
  },
  {
   "cell_type": "markdown",
   "metadata": {},
   "source": [
    "### Matriz de correlação - comunidades"
   ]
  },
  {
   "cell_type": "code",
   "execution_count": 892,
   "metadata": {},
   "outputs": [],
   "source": [
    "#corr_df = correlationMatrix(generic_df)\n",
    "#plt.figure(figsize=(8, 6))\n",
    "#sns.heatmap(corr_df, annot=True)\n",
    "#plt.show()\n",
    "#corr_df.style.background_gradient(cmap='coolwarm')"
   ]
  },
  {
   "cell_type": "markdown",
   "metadata": {},
   "source": [
    "### Box-plot - comunidades"
   ]
  },
  {
   "cell_type": "code",
   "execution_count": 893,
   "metadata": {},
   "outputs": [],
   "source": [
    "#generate_box(generic_df, repository)"
   ]
  },
  {
   "cell_type": "markdown",
   "metadata": {},
   "source": [
    "## Análise de  [Maintainability e Reliability] do repositório Cartografia-social-api-gateway"
   ]
  },
  {
   "cell_type": "code",
   "execution_count": 902,
   "metadata": {},
   "outputs": [],
   "source": [
    "generic_df = api_gateway_metrics.copy()\n",
    "repository = \"CARTOGRAFIA-SOCIAL-API-GATEWAY\""
   ]
  },
  {
   "cell_type": "markdown",
   "metadata": {},
   "source": [
    "### Plot do Histórico das métricas - gateway"
   ]
  },
  {
   "cell_type": "code",
   "execution_count": 904,
   "metadata": {},
   "outputs": [],
   "source": [
    "#plot_history(generic_df, repository)"
   ]
  },
  {
   "cell_type": "markdown",
   "metadata": {},
   "source": [
    "### Estatistica descritiva - Gateway"
   ]
  },
  {
   "cell_type": "code",
   "execution_count": 906,
   "metadata": {},
   "outputs": [],
   "source": [
    "#descriptive_statistics(generic_df)"
   ]
  },
  {
   "cell_type": "markdown",
   "metadata": {},
   "source": [
    "### Cálculo da moda - Gateway"
   ]
  },
  {
   "cell_type": "code",
   "execution_count": null,
   "metadata": {},
   "outputs": [],
   "source": [
    "#generic_df.mode(numeric_only=True)"
   ]
  },
  {
   "cell_type": "markdown",
   "metadata": {},
   "source": [
    "### Tabela de porcentagem - Gateway"
   ]
  },
  {
   "cell_type": "code",
   "execution_count": 908,
   "metadata": {},
   "outputs": [],
   "source": [
    "#descriptive_per(generic_df)"
   ]
  },
  {
   "cell_type": "markdown",
   "metadata": {},
   "source": [
    "### Matriz de correlação - Gateway"
   ]
  },
  {
   "cell_type": "code",
   "execution_count": 910,
   "metadata": {},
   "outputs": [],
   "source": [
    "#corr_df = correlationMatrix(generic_df)\n",
    "#plt.figure(figsize=(8, 6))\n",
    "#sns.heatmap(corr_df, annot=True)\n",
    "#plt.show()\n",
    "#corr_df.style.background_gradient(cmap='coolwarm')"
   ]
  },
  {
   "cell_type": "markdown",
   "metadata": {},
   "source": [
    "### Box-plot - Gateway"
   ]
  },
  {
   "cell_type": "code",
   "execution_count": 912,
   "metadata": {},
   "outputs": [],
   "source": [
    "#generate_box(generic_df, repository)"
   ]
  },
  {
   "cell_type": "markdown",
   "metadata": {},
   "source": [
    "## Análise de  [Maintainability e Reliability] do repositório Cartografia-social-api-mapas\n"
   ]
  },
  {
   "cell_type": "code",
   "execution_count": 913,
   "metadata": {},
   "outputs": [],
   "source": [
    "generic_df = api_mapas_metrics.copy()\n",
    "repository = \"CARTOGRAFIA-SOCIAL-API-MAPAS\""
   ]
  },
  {
   "cell_type": "markdown",
   "metadata": {},
   "source": [
    "### Plot do Histórico das métricas - mapas"
   ]
  },
  {
   "cell_type": "code",
   "execution_count": 915,
   "metadata": {},
   "outputs": [],
   "source": [
    "#plot_history(generic_df, repository)"
   ]
  },
  {
   "cell_type": "markdown",
   "metadata": {},
   "source": [
    "### Estatistica descritiva - mapas"
   ]
  },
  {
   "cell_type": "code",
   "execution_count": 917,
   "metadata": {},
   "outputs": [],
   "source": [
    "#descriptive_statistics(generic_df)"
   ]
  },
  {
   "cell_type": "markdown",
   "metadata": {},
   "source": [
    "### Cálculo da moda - mapas"
   ]
  },
  {
   "cell_type": "code",
   "execution_count": 919,
   "metadata": {},
   "outputs": [],
   "source": [
    "#generic_df.mode(numeric_only=True)"
   ]
  },
  {
   "cell_type": "markdown",
   "metadata": {},
   "source": [
    "### Tabela de percentis - mapas"
   ]
  },
  {
   "cell_type": "code",
   "execution_count": 921,
   "metadata": {},
   "outputs": [],
   "source": [
    "#descriptive_per(generic_df)"
   ]
  },
  {
   "cell_type": "markdown",
   "metadata": {},
   "source": [
    "### Matriz de correlação - mapas"
   ]
  },
  {
   "cell_type": "code",
   "execution_count": 924,
   "metadata": {},
   "outputs": [],
   "source": [
    "#corr_df = correlationMatrix(generic_df)\n",
    "#plt.figure(figsize=(8, 6))\n",
    "#sns.heatmap(corr_df, annot=True)\n",
    "#plt.show()\n",
    "#corr_df.style.background_gradient(cmap='coolwarm')"
   ]
  },
  {
   "cell_type": "code",
   "execution_count": null,
   "metadata": {},
   "outputs": [],
   "source": [
    "### Box-plot - Mapas"
   ]
  },
  {
   "cell_type": "code",
   "execution_count": null,
   "metadata": {},
   "outputs": [],
   "source": []
  },
  {
   "cell_type": "markdown",
   "metadata": {},
   "source": [
    "### Sub characteristic aggregation\n",
    "\n",
    "- You must do this for each of your repositories"
   ]
  },
  {
   "cell_type": "code",
   "execution_count": 895,
   "metadata": {},
   "outputs": [
    {
     "data": {
      "text/plain": [
       "Ellipsis"
      ]
     },
     "execution_count": 895,
     "metadata": {},
     "output_type": "execute_result"
    }
   ],
   "source": [
    "psc1 = 1\n",
    "psc2 = 1\n",
    "pc1 = 0.5\n",
    "pc2 = 0.5\n",
    "pm1 = 0.33\n",
    "pm2 = 0.33\n",
    "pm3 = 0.33\n",
    "pm4 = 0.15\n",
    "pm5 = 0.15\n",
    "pm6 = 0.7\n",
    "\n",
    "api_comunidades_metrics['code_quality'] = ((api_comunidades_metrics['m1']*pm1) + (api_comunidades_metrics['m2']*pm2) + (api_comunidades_metrics['m3']*pm3)) * psc1\n",
    "api_gateway_metrics['code_quality'] = ((api_gateway_metrics['m1']*pm1) + (api_gateway_metrics['m2']*pm2) + (api_gateway_metrics['m3']*pm3)) * psc1\n",
    "api_mapas_metrics['code_quality'] = ((api_mapas_metrics['m1']*pm1) + (api_mapas_metrics['m2']*pm2) + (api_mapas_metrics['m3']*pm3)) * psc1\n",
    "api_midia_metrics['code_quality'] = ((api_midia_metrics['m1']*pm1) + (api_midia_metrics['m2']*pm2) + (api_midia_metrics['m3']*pm3)) * psc1\n",
    "api_users_metrics['code_quality'] = ((api_users_metrics['m1']*pm1) + (api_users_metrics['m2']*pm2) + (api_users_metrics['m3']*pm3)) * psc1\n",
    "...\n",
    "\n",
    "api_comunidades_metrics['testing_status'] = ((api_comunidades_metrics['m4']*pm4) + (api_comunidades_metrics['m5']*pm5) + (api_comunidades_metrics['m6']*pm6)) * psc2\n",
    "api_gateway_metrics['testing_status'] = ((api_gateway_metrics['m4']*pm4) + (api_gateway_metrics['m5']*pm5) + (api_gateway_metrics['m6']*pm6)) * psc2\n",
    "api_mapas_metrics['testing_status'] = ((api_mapas_metrics['m4']*pm4) + (api_mapas_metrics['m5']*pm5) + (api_mapas_metrics['m6']*pm6)) * psc2\n",
    "api_midia_metrics['testing_status'] = ((api_midia_metrics['m4']*pm4) + (api_midia_metrics['m5']*pm5) + (api_midia_metrics['m6']*pm6)) * psc2\n",
    "api_users_metrics['testing_status'] = ((api_users_metrics['m4']*pm4) + (api_users_metrics['m5']*pm5) + (api_users_metrics['m6']*pm6)) * psc2\n",
    "\n",
    "..."
   ]
  },
  {
   "cell_type": "code",
   "execution_count": 896,
   "metadata": {},
   "outputs": [],
   "source": [
    "metrics_df = pd.concat([api_comunidades_metrics, api_gateway_metrics, api_mapas_metrics, api_midia_metrics, api_users_metrics], ignore_index=True)\n",
    "metrics_df['maintainability'] = metrics_df['code_quality'] * pc1\n",
    "metrics_df['Reliability'] = metrics_df['testing_status'] * pc2\n",
    "metrics_df['total'] = metrics_df['maintainability'] + metrics_df['Reliability']"
   ]
  },
  {
   "cell_type": "code",
   "execution_count": 897,
   "metadata": {},
   "outputs": [],
   "source": [
    "#metrics_df"
   ]
  },
  {
   "cell_type": "code",
   "execution_count": 898,
   "metadata": {
    "pycharm": {
     "name": "#%%\n"
    }
   },
   "outputs": [],
   "source": [
    "#fig = plt.figure(figsize=(20, 10))\n",
    "\n",
    "\n",
    "#plt.plot(metrics_df['maintainability'], linewidth=3, marker='o', markersize=5)\n",
    "#plt.plot(metrics_df['Reliability'], linewidth=3, marker='o', markersize=5)\n",
    "\n",
    "\n",
    "#plt.ylim(.45,.7)"
   ]
  },
  {
   "cell_type": "code",
   "execution_count": 899,
   "metadata": {
    "pycharm": {
     "name": "#%%\n"
    }
   },
   "outputs": [],
   "source": [
    "#fig = plt.figure(figsize=(20, 10))\n",
    "\n",
    "\n",
    "#plt.plot(metrics_df['total'], linewidth=3, marker='o', markersize=5)\n",
    "\n",
    "\n",
    "#plt.ylim(.45,.7)\n"
   ]
  },
  {
   "cell_type": "code",
   "execution_count": 900,
   "metadata": {},
   "outputs": [],
   "source": [
    "# ANALYSIS_DATE FORMAT: MM-DD-YYYY\n",
    "\n",
    "metrics_df.to_excel('data/fga-eps-mds-2021_1-Cartografia-Social-ANALYSYS.xlsx', index = False)\n",
    "metrics_df.to_csv('data/fga-eps-mds-2021_1-Cartografia-Social-ANALYSYS.csv', index = False)"
   ]
  }
 ],
 "metadata": {
  "kernelspec": {
   "display_name": "Python 3",
   "language": "python",
   "name": "python3"
  },
  "language_info": {
   "codemirror_mode": {
    "name": "ipython",
    "version": 3
   },
   "file_extension": ".py",
   "mimetype": "text/x-python",
   "name": "python",
   "nbconvert_exporter": "python",
   "pygments_lexer": "ipython3",
   "version": "3.8.8"
  }
 },
 "nbformat": 4,
 "nbformat_minor": 4
}
